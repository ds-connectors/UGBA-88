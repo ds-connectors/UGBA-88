{
 "cells": [
  {
   "cell_type": "markdown",
   "metadata": {},
   "source": [
    "## Lab 1\n",
    "### UGBA 88: Data and Decisions, Fall 2019\n",
    "\n",
    "<br>\n",
    "\n",
    "This lab is designed to be completed in class. However, in case you need additional time, this assignment is due **Tuesday, September 24th at 11:59pm**.\n",
    "\n",
    "The lab will be graded for **completion**. This includes, but is not limited to, passing all tests. Lab office hours are held by Connector Assistants on Tuesdays after labs from 2-4pm in the DS Nexus in Moffitt.\n",
    "\n",
    "## Economic Mobility at Calfornia Public Institutions\n",
    "\n",
    "In this lab we will analyze the data underlying the College Mobility Report Cards discussed in lecture. We will focus on public universities and community colleges in California. An important justification for public spending on higher education is that colleges and universities may be seen as the 'engines of social mobility'. \n",
    "\n",
    "We will do three things. First, we will investigate how access, success, and upward mobility rates vary across institutions. Second, we will  explore how access has changed over time, as California’s spending on public higher education has declined or stagnated. Third, we will write a function that generates a Report Card for a provided institution.\n",
    "\n",
    "The lab is intended to illustrate how descriptive statistics alone can provide valuable insights and motivate new questions.\n",
    "\n",
    "### Table of Contents\n",
    "1 - [Comparing Outcomes Across Institutions](#compare)<br>\n",
    "2 - [How Does Access Vary Over Time?](#access)<br>\n",
    "3 - [Creating a College Report Card](#card)<br>\n",
    "\n",
    "\n",
    "**Dependencies:**"
   ]
  },
  {
   "cell_type": "code",
   "execution_count": null,
   "metadata": {},
   "outputs": [],
   "source": [
    "from datascience import *\n",
    "import numpy as np\n",
    "\n",
    "#These lines set up graphing capabilities.\n",
    "import matplotlib.pyplot as plt\n",
    "%matplotlib inline\n",
    "\n",
    "import warnings\n",
    "warnings.filterwarnings(\"ignore\")\n",
    "\n",
    "from client.api.notebook import Notebook\n",
    "ok = Notebook('lab1.ok')\n",
    "_ = ok.auth(inline=True) "
   ]
  },
  {
   "cell_type": "markdown",
   "metadata": {},
   "source": [
    "## 1. Comparing Outcomes Mobility Across Institutions <a id='compare'></a>\n",
    "The first dataset we'll use has one row of data for each college and university in the US.\n",
    "\n",
    "(Though we discuss the columns we'll use in this lab, look [here](http://www.equality-of-opportunity.org/data/college/Codebook%20MRC%20Table%202.pdf) for more documentation on the remaining contents of these data.)\n",
    "\n",
    "\n",
    "First, let's load the data and the specific columns we'll use in this lab."
   ]
  },
  {
   "cell_type": "code",
   "execution_count": null,
   "metadata": {},
   "outputs": [],
   "source": [
    "mobility = Table.read_table(\"mrc_q1.csv\")\n",
    "\n",
    "print(\"Table Dimensions:\", mobility.num_columns , \"X\" , mobility.num_rows)\n",
    "mobility.show(5)"
   ]
  },
  {
   "cell_type": "markdown",
   "metadata": {},
   "source": [
    "In this lab we will focus on Calfornia public institutions. Let’s filter the data to reflect this."
   ]
  },
  {
   "cell_type": "code",
   "execution_count": null,
   "metadata": {},
   "outputs": [],
   "source": [
    "ca_pub_mobility = mobility.where('type', are.equal_to('Public')).where('state', are.equal_to('CA'))\n",
    "\n",
    "print(\"Table Dimensions:\", ca_pub_mobility.num_columns , \"X\" , ca_pub_mobility.num_rows)\n",
    "ca_pub_mobility.show(5)"
   ]
  },
  {
   "cell_type": "markdown",
   "metadata": {},
   "source": [
    "*Note: See how we can \"chained\" __.where__ statements? *\n",
    "\n",
    "This is because calling .where() on a table object, returns another table object, so you can use as many .where() statements as you like that each filter out rows of the table.\n",
    "\n",
    "We are left with a total of 100 institutions."
   ]
  },
  {
   "cell_type": "markdown",
   "metadata": {},
   "source": [
    "## Exploring the Data \n",
    "\n",
    "We will first describe the distributions of _access, success rates, and mobility rates_ across institutions. We use the same definitions of these terms used in the paper and described in lecture:\n",
    "\n",
    "- **`access`:** the percentage of students enrolled that are ‘low income’–those whose parents' income is in the bottom quintile (bottom 20%) of the parental income distribution. Note: values range from 0 to 100.\n",
    "\n",
    "- **`success`:** the percentage of low income students with post-graduation incomes in the top quintile (top 20%) of the student income distribution, measured at age 32-34.\n",
    "\n",
    "- **`mobility`:** the percentage of students enrolled that are both ‘low income’ and later have earnings in the top quintile (top 20%) of the student income distribution.\n",
    "\n",
    "Recall that `mobility` $=$ `access` $\\times$ `success`. Hence, institutions with high mobility will tend to have more low income students and high 'success' rates with those students.\n"
   ]
  },
  {
   "cell_type": "markdown",
   "metadata": {},
   "source": [
    "### Success Rates\n",
    "\n",
    "**Q1.1** First plot a histogram of `success` across institutions.\n",
    "\n",
    "*Hint:* Look at the datascience documentation [here](http://data8.org/sp18/python-reference.html) for how to use `.hist` to graph a histogram."
   ]
  },
  {
   "cell_type": "code",
   "execution_count": null,
   "metadata": {},
   "outputs": [],
   "source": [
    "#create histogram of success column\n",
    "...\n",
    "\n",
    "#the code below will label the axes and title of your histogram\n",
    "plt.title('Distribution of \"Success\" at California Public Institutions')\n",
    "plt.xlabel('Success Rate: P(Child in Q5 | Parent in Q1)')"
   ]
  },
  {
   "cell_type": "markdown",
   "metadata": {},
   "source": [
    "Notice that one institution has a substantially larger `success` rate than the rest. This type of data point, one that does not fit the overall pattern of the data, is often referred to as an **outlier**.\n",
    "\n",
    "**Q1.2** What institution is that outlier?\n",
    "\n",
    "To find this, we can filter the table to look at rows where `success` is sufficiently large. Alternatively you can order the table by success and select the top row. The function .where() may be useful. \n",
    "\n",
    "Set `success_outlier` to the name of the outlier institution."
   ]
  },
  {
   "cell_type": "code",
   "execution_count": null,
   "metadata": {},
   "outputs": [],
   "source": [
    "success_outlier = ..."
   ]
  },
  {
   "cell_type": "code",
   "execution_count": null,
   "metadata": {},
   "outputs": [],
   "source": [
    "_ = ok.grade('q1_2')"
   ]
  },
  {
   "cell_type": "markdown",
   "metadata": {},
   "source": [
    "**1.3** Now, we'll look at some descriptive statistics introduced in lecture.\n",
    "\n",
    "Compute the mean, standard deviation, 25th, 50th (median) and 75th percentiles of the column `success`."
   ]
  },
  {
   "cell_type": "code",
   "execution_count": null,
   "metadata": {},
   "outputs": [],
   "source": [
    "#note: the function np.std(x) takes an array x and calculates the standard deviation.\n",
    "\n",
    "#note: the function np.percentile(x, A) takes an array x and calculates percentiles of x corresponding\n",
    "#to the values of an array A, ranging from 0-100. Your call of np.percentile will take \n",
    "#the form: np.percentile(x, [a1, a2, a3])\n",
    "\n",
    "success_mean = ...\n",
    "success_std = ...\n",
    "success_percentiles = ...\n",
    "\n",
    "#note: success_percentiles should be an array of 3 values\n",
    "\n",
    "print('mean:', success_mean)\n",
    "print('standard deviation:', success_std)\n",
    "print('percentiles:', success_percentiles)"
   ]
  },
  {
   "cell_type": "code",
   "execution_count": null,
   "metadata": {},
   "outputs": [],
   "source": [
    "_ = ok.grade(\"q1_3\")"
   ]
  },
  {
   "cell_type": "markdown",
   "metadata": {},
   "source": [
    "**1.4** Next, let's examine the relationship between `access` and `success`. Create a scatterplot with `access` on the horizontal axis and `success` on the vertical access."
   ]
  },
  {
   "cell_type": "code",
   "execution_count": null,
   "metadata": {},
   "outputs": [],
   "source": [
    "#create scatter plot\n",
    "...\n",
    "\n",
    "#the code below will label the axes and title of your scatter plot\n",
    "plt.title('Access versus Success at Calfornia Public Institutions')\n",
    "plt.xlabel('Share of Parents in Bottom Quintile')\n",
    "plt.ylabel('100 * P(Child in Q5 | Parent in Q1)')"
   ]
  },
  {
   "cell_type": "markdown",
   "metadata": {},
   "source": [
    "**1.5** Describe the relationship between `access` and `success`."
   ]
  },
  {
   "cell_type": "markdown",
   "metadata": {},
   "source": [
    "*Write answer here*"
   ]
  },
  {
   "cell_type": "markdown",
   "metadata": {},
   "source": [
    "Interestingly, despite the clear relationship between `access` and `success` you've noted above, there is still a lot of variation in `access` among institutions with similar `success` rates. You can see that from the following figure (which includes all US colleges and universities, not just public Calfornia schools):\n",
    "\n",
    "<img src=\"success_cond_var.png\" alt=\"Drawing\" style=\"width: 600px;\"/>\n",
    "\n",
    "Among schools at the 75th percentile of `success`, the stadard deviation is relatively large at 6.88%. This suggests an interesting policy question: how are institutions producing students of similar 'quality' (as measured by earnings) yet providing very different levels of access? What can be learned from the more accessible colleges and universities?"
   ]
  },
  {
   "cell_type": "markdown",
   "metadata": {},
   "source": [
    "### Mobility Rates"
   ]
  },
  {
   "cell_type": "markdown",
   "metadata": {},
   "source": [
    "Finally, let's investigate `mobility` rates. Recall that `mobility` measures the percentage of students enrolled that are both ‘low income’ and later have earnings in the top quintile (top 20%) of the student income distribution.\n",
    "\n",
    "**1.6** Plot a histogram of `mobility` across institutions. "
   ]
  },
  {
   "cell_type": "code",
   "execution_count": null,
   "metadata": {},
   "outputs": [],
   "source": [
    "#create histogram of mobility column\n",
    "...\n",
    "\n",
    "#the code below will label the axes and title of your histogram\n",
    "plt.title('Distribution of \"Mobility\" at Calfornia Public Institutions')\n",
    "plt.xlabel('\"Mobility\"')"
   ]
  },
  {
   "cell_type": "markdown",
   "metadata": {},
   "source": [
    "**1.7** You should see another outlier. What institution is that? Set `mobility_outlier` to the name of the institution."
   ]
  },
  {
   "cell_type": "code",
   "execution_count": null,
   "metadata": {},
   "outputs": [],
   "source": [
    "mobility_outlier = ..."
   ]
  },
  {
   "cell_type": "code",
   "execution_count": null,
   "metadata": {},
   "outputs": [],
   "source": [
    "_ = ok.grade(\"q1_7\")"
   ]
  },
  {
   "cell_type": "markdown",
   "metadata": {},
   "source": [
    "This institution actually has the highest `mobility` rate across all institutions in the US. It has a relatively high `success` rate, and one of the largest levels of `access`.\n",
    "\n",
    "**1.8** Let's compute the same summary statistics for `mobility`: the mean, standard deviation, and the same percentile values."
   ]
  },
  {
   "cell_type": "code",
   "execution_count": null,
   "metadata": {},
   "outputs": [],
   "source": [
    "mobility_mean = ...\n",
    "mobility_std = ...\n",
    "mobility_percentiles = ...\n",
    "\n",
    "print('mean:', mobility_mean)\n",
    "print('standard deviation:', mobility_std)\n",
    "print('percentiles:', mobility_percentiles)"
   ]
  },
  {
   "cell_type": "code",
   "execution_count": null,
   "metadata": {},
   "outputs": [],
   "source": [
    "_ = ok.grade(\"q1_8\")"
   ]
  },
  {
   "cell_type": "markdown",
   "metadata": {},
   "source": [
    "For the sake of comparison, here are `access`, `success`, and `mobility` for UC Berkeley."
   ]
  },
  {
   "cell_type": "code",
   "execution_count": null,
   "metadata": {},
   "outputs": [],
   "source": [
    "ca_pub_mobility.where('name', are.equal_to('University Of California, Berkeley')).select(['name', 'access', 'success', 'mobility'])"
   ]
  },
  {
   "cell_type": "markdown",
   "metadata": {},
   "source": [
    "**1.9** How would you say Berkeley compares to other California public institutions? For example, between what quartiles does Berkeley rank on each measure?"
   ]
  },
  {
   "cell_type": "markdown",
   "metadata": {},
   "source": [
    "*Write answer here: how does Berkeley compare?*"
   ]
  },
  {
   "cell_type": "markdown",
   "metadata": {},
   "source": [
    "## 2. How Does Access Vary Over Time? <a id='access'></a>\n",
    "In this section we will study how low income access to California public institutions has changed over time. Over the last 40 years, public spending on higher education in Calfornia has changed dramatically, as demonstrated by the figure below.\n",
    "\n",
    "<img src = http://www.ppic.org/content/images/InstCosts_Fig1.png, title = 'higher education funding in California'>\n",
    "\n",
    "**UC :** University of California \n",
    "<br>\n",
    "**CSU :** California State University\n",
    "\n",
    "For your reference, here's a DailyCal article that outlines how funding has changed over the years\n",
    "http://www.dailycal.org/2014/12/22/history-uc-tuition-since-1868/\n",
    "<br>\n",
    "\n",
    "**2.1** We will begin by loading a new dataset, which is described in more detail below."
   ]
  },
  {
   "cell_type": "code",
   "execution_count": null,
   "metadata": {},
   "outputs": [],
   "source": [
    "mobility_panel = Table.read_table('mrc_q2.csv')\n",
    "\n",
    "#restrict to California public and private (non-profit) institutions\n",
    "ca_mobility_panel = mobility_panel.where('state', are.equal_to('CA')).where('type', are.contained_in(make_array('Public', 'Private Non-profit')))\n",
    "\n",
    "#drop missing values\n",
    "ca_mobility_panel = ca_mobility_panel.where('access', are.above(0))\n",
    "\n",
    "ca_mobility_panel.show(5)"
   ]
  },
  {
   "cell_type": "markdown",
   "metadata": {},
   "source": [
    "These data are **longitudinal data** (also known as **panel data**), which means they follow the same object over time with repeated observations. In this case, the data follow institutions over time.\n",
    "\n",
    "These particular longitudinal data are organized by **cohort**. In general, a cohort is a group of individuals that share some common factor, of a year of birth or year of matriculation. In this case, cohorts are defined by the student's year of birth. For each institution, there is now a separate row of data for students born in each year, ranging from 1980 to 1991.\n",
    "\n",
    "The column `count` records the number of students from each cohort that were included in the underlying data."
   ]
  },
  {
   "cell_type": "markdown",
   "metadata": {},
   "source": [
    "**2.2** Let's measure `access` over time (by cohort), averaging across all public institutions. "
   ]
  },
  {
   "cell_type": "code",
   "execution_count": null,
   "metadata": {},
   "outputs": [],
   "source": [
    "#plot `access` by cohort\n",
    "#note: you will cover the group function later this week in Data 8. The code below collapses the data into cohort-level averages.\n",
    "ca_mobility_panel_public = ca_mobility_panel.where('type', are.equal_to('Public')).group('cohort', collect = np.mean)\n",
    "\n",
    "#When plotting we must first select the columns we want to plot\n",
    "ca_mobility_panel_public.select(make_array('cohort','access mean')).plot(column_for_xticks='cohort')\n",
    "plt.title('Low-Income Percent of Enrollment in California Public Institutions')"
   ]
  },
  {
   "cell_type": "markdown",
   "metadata": {},
   "source": [
    "**2.3** Now, let's separate this figure by institution type.\n",
    "\n",
    "(Note: to overlay plots, we had to go outside the datascience package. Here, I used matplotlib, what creates the Table.plot charts. If you're curious, you can learn more\n",
    "[here](https://matplotlib.org/gallery/lines_bars_and_markers/categorical_variables.html?highlight=categorical).)"
   ]
  },
  {
   "cell_type": "code",
   "execution_count": null,
   "metadata": {},
   "outputs": [],
   "source": [
    "ca_mobility_two_year = ca_mobility_panel.where('type', are.equal_to('Public')\n",
    "                                            ).where('iclevel', are.equal_to('Two-year')).group('cohort', collect = np.mean)\n",
    "\n",
    "ca_mobility_four_year = ca_mobility_panel.where('type', are.equal_to('Public')\n",
    "                                             ).where('iclevel', are.equal_to('Four-year')).group('cohort', collect = np.mean)\n",
    "\n",
    "plt.plot(ca_mobility_two_year.column('cohort'), ca_mobility_two_year.column('access mean'), label = 'Two-year')\n",
    "plt.plot(ca_mobility_four_year.column('cohort'), ca_mobility_four_year.column('access mean'), label = 'Four-year')\n",
    "plt.title('Low-Income Percent of Enrollment in Calfornia Public Institutions, by Type')\n",
    "plt.legend()"
   ]
  },
  {
   "cell_type": "markdown",
   "metadata": {},
   "source": [
    "A couple of key takeaways from this figure:\n",
    "* the *level* of `access` is significantly higher at two-year colleges.\n",
    "* The decline in `access` over time is much steeper for 4-year colleges."
   ]
  },
  {
   "cell_type": "markdown",
   "metadata": {},
   "source": [
    "**2.4** Finally, for comparison's sake, let’s check how low-income access is evolving at private non-profit 4-year institutions in California. \n",
    "\n",
    "Perhaps there is some substitution to these institutions, some of which have increased their financial aid offerings over time.\n",
    "\n",
    "For this exercise you will need to use the following columns:\n",
    "\n",
    "- **`iclevel`:** indicates whether an institution is a 4-year, 2-year, or less than 2-year college.\n",
    "\n",
    "- **`type`:** indicates whether an institution is a Public, Private Non-profit, or Private For-profit institution."
   ]
  },
  {
   "cell_type": "code",
   "execution_count": null,
   "metadata": {},
   "outputs": [],
   "source": [
    "#use similar code as above, except replace public two-year institutions with private four-year institutions\n",
    "ca_mobility_private = ...\n",
    "\n",
    "ca_mobility_public = ..."
   ]
  },
  {
   "cell_type": "code",
   "execution_count": null,
   "metadata": {},
   "outputs": [],
   "source": [
    "_ = ok.grade('q2_4')"
   ]
  },
  {
   "cell_type": "markdown",
   "metadata": {},
   "source": [
    "In fact, low-income access is also declining at private colleges and universities (note the change in veritcal axis scale)."
   ]
  },
  {
   "cell_type": "markdown",
   "metadata": {},
   "source": [
    "## 3. Creating a College Report Card <a id='card'></a>\n",
    "\n",
    "<img src=\"berkeley_mrc.png\">\n",
    "\n",
    "The main output of the Chetty et al. (2017) project is a Mobility Report Card for each school included in their data. The Report Card shows the composition of an institution's students by parental income quintile, and success rates by parental income quintile. Report Cards for each institution can be found [here](https://sites.google.com/site/dannyyagan/college).\n",
    "\n",
    "Above, you can see the Report Card for UC Berkeley. The figure includes a bar chart for the distribution of students by parental income quintile, and a line plot the show success rates by parental income quintile. The figure is effective--it presents a lot of information without too much clutter.\n",
    "\n",
    "In this section we will create a function that generates a Report Card comparing two institutions.\n",
    "\n",
    "**3.1** For this exercise, it will be easier to work with the first dataset in a different format. Again, we will restrict to public California colleges and universities."
   ]
  },
  {
   "cell_type": "code",
   "execution_count": null,
   "metadata": {},
   "outputs": [],
   "source": [
    "#read in data\n",
    "mobility_long = Table.read_table(\"mrc_q3.csv\")\n",
    "\n",
    "#restrict to CA public institutions again\n",
    "ca_pub_mobility_long = mobility_long.where('type', are.equal_to('Public')).where('state', are.equal_to('CA'))\n",
    "\n",
    "ca_pub_mobility_long.show(5)\n"
   ]
  },
  {
   "cell_type": "markdown",
   "metadata": {},
   "source": [
    "Notice that now there are *5* observations per institution. While each row represented an institution in the first table, in this table each row represents an institution by parental income quintile _pair_. The latter is denoted by the column `parq`. \n",
    "\n",
    "(What we have done is transformed the data from *wide* to *long* format. The details of this are beyond the scope of this lab, but you can think of it as the opposite of the `pivot` function introduced in Data 8.)\n",
    "\n",
    "There are two other columns that require explanation:\n",
    "\n",
    "- **`percent`**: this is the percent of students at the institution with parental income in the quintile indicated by `parq`. Across the 5 rows for each institution, these values will sum to 100.\n",
    "\n",
    "- **`success_by_q`**: this is the 'success rate' for students from a particular institution and parental income quintile. In other words, it is the percentage of students that reach the top quintile of the children's income distribution."
   ]
  },
  {
   "cell_type": "markdown",
   "metadata": {},
   "source": [
    "**3.2** First, create the bar chart portion of the Report Card for UC Berkeley.\n"
   ]
  },
  {
   "cell_type": "code",
   "execution_count": null,
   "metadata": {},
   "outputs": [],
   "source": [
    "#create table with just Berkeley data\n",
    "berkeley_mobility_long = ca_pub_mobility_long.where('name', are.equal_to('University Of California, Berkeley'))\n",
    "\n",
    "#create bar chart\n",
    "plt.bar(berkeley_mobility_long.column('parq'), berkeley_mobility_long.column('percent'), label = 'University Of California, Berkeley')"
   ]
  },
  {
   "cell_type": "markdown",
   "metadata": {},
   "source": [
    "**3.3** Next, create the line plot portion. Specify which columns labels belong on the x and y axes, take those columns from the relevant table, and use .plot from `matplotlib` to create the scatter plot."
   ]
  },
  {
   "cell_type": "code",
   "execution_count": null,
   "metadata": {},
   "outputs": [],
   "source": [
    "#create line plot\n",
    "plt.plot(berkeley_mobility_long.column('parq'), berkeley_mobility_long.column('success_by_q'), marker='o')"
   ]
  },
  {
   "cell_type": "markdown",
   "metadata": {},
   "source": [
    "Notice the difference in vertical scales for the two figures.\n",
    "\n",
    "**3.4** Let's put the last two pieces together in one figure as in the offical Report Cards."
   ]
  },
  {
   "cell_type": "code",
   "execution_count": null,
   "metadata": {},
   "outputs": [],
   "source": [
    "#copy and paste your code from previous two cells\n",
    "...\n",
    "\n",
    "#and include this last line\n",
    "plt.show()"
   ]
  },
  {
   "cell_type": "markdown",
   "metadata": {},
   "source": [
    "We're almost there! We just need to combine the data from two institutions in one plot. The code below generates a Report Card that compares UC Berkeley and UC Davis. "
   ]
  },
  {
   "cell_type": "code",
   "execution_count": null,
   "metadata": {},
   "outputs": [],
   "source": [
    "#create report card that compares two institutions\n",
    "bar_width = 0.3  # default: 0.8\n",
    "\n",
    "school1 = ca_pub_mobility_long.where('name', are.equal_to('University Of California, Berkeley'))\n",
    "school2 = ca_pub_mobility_long.where('name', are.equal_to('University Of California, Davis'))\n",
    "\n",
    "#create the bar charts\n",
    "plt.bar(school1.column('parq') + bar_width/2 + .05, school1.column('percent'), bar_width, label = 'University Of California, Berkeley')\n",
    "plt.bar(school2.column('parq') - bar_width/2 - .05, school2.column('percent'), bar_width, label = 'University Of California, Davis')\n",
    "\n",
    "#create the line plots\n",
    "plt.plot(school1.column('parq'), school1.column('success_by_q'), marker='o')\n",
    "plt.plot(school2.column('parq'), school2.column('success_by_q'), marker='o')\n",
    "\n",
    "plt.legend()\n",
    "\n",
    "plt.show()"
   ]
  },
  {
   "cell_type": "markdown",
   "metadata": {},
   "source": [
    "**3.5** Create a function that takes two institution names as arguments and returns a Report Card that compares the two."
   ]
  },
  {
   "cell_type": "code",
   "execution_count": null,
   "metadata": {},
   "outputs": [],
   "source": [
    "#turn into function\n",
    "#hint: you should first copy the code from the cell above and then make some minor changes so that\n",
    "#'UC Berkeley' and 'UC Davis' are replaced by the names for the function arguments.\n",
    "\n",
    "def report_card(a, b):\n",
    "\n",
    "    ...\n",
    "\n",
    "    plt.legend()\n",
    "\n",
    "    return plt.show()"
   ]
  },
  {
   "cell_type": "markdown",
   "metadata": {},
   "source": [
    "**3.6** Generate a report card using two institutions of your choosing. Describe the comparison."
   ]
  },
  {
   "cell_type": "code",
   "execution_count": null,
   "metadata": {},
   "outputs": [],
   "source": []
  },
  {
   "cell_type": "markdown",
   "metadata": {},
   "source": [
    "*Write answer here: describe comparison*"
   ]
  },
  {
   "cell_type": "markdown",
   "metadata": {},
   "source": [
    "If you're interested in these data, you can play around with [this data exploration tool](https://www.nytimes.com/interactive/projects/college-mobility/) put together by the New York Times."
   ]
  },
  {
   "cell_type": "markdown",
   "metadata": {},
   "source": [
    "Congratulations, you've finished Lab 1! To submit the lab, run the two cells below:"
   ]
  },
  {
   "cell_type": "code",
   "execution_count": null,
   "metadata": {},
   "outputs": [],
   "source": [
    "# For your convenience, you can run this cell to run all the tests at once\n",
    "import os\n",
    "_ = [ok.grade(q[:-3]) for q in os.listdir(\"tests\") if q.startswith('q')]"
   ]
  },
  {
   "cell_type": "code",
   "execution_count": null,
   "metadata": {},
   "outputs": [],
   "source": [
    "from client.api.notebook import Notebook\n",
    "ok = Notebook('lab1.ok')                \n",
    "_ = ok.auth(inline=True)\n",
    "_ = ok.submit()"
   ]
  },
  {
   "cell_type": "code",
   "execution_count": null,
   "metadata": {},
   "outputs": [],
   "source": []
  }
 ],
 "metadata": {
  "kernelspec": {
   "display_name": "Python 3",
   "language": "python",
   "name": "python3"
  },
  "language_info": {
   "codemirror_mode": {
    "name": "ipython",
    "version": 3
   },
   "file_extension": ".py",
   "mimetype": "text/x-python",
   "name": "python",
   "nbconvert_exporter": "python",
   "pygments_lexer": "ipython3",
   "version": "3.6.8"
  }
 },
 "nbformat": 4,
 "nbformat_minor": 2
}
