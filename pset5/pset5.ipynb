{
 "cells": [
  {
   "cell_type": "markdown",
   "metadata": {
    "#student": false
   },
   "source": [
    "## Problem Set 5\n",
    "### UGBA 88: Data and Decisions, Fall 2019"
   ]
  },
  {
   "cell_type": "code",
   "execution_count": null,
   "metadata": {
    "#student": false
   },
   "outputs": [],
   "source": [
    "#run this cell once, then *restart kernel*\n",
    "%pip install gsExport"
   ]
  },
  {
   "cell_type": "code",
   "execution_count": 1,
   "metadata": {
    "#student": false
   },
   "outputs": [],
   "source": [
    "from datascience import *\n",
    "%matplotlib inline\n",
    "import matplotlib.pyplot as plt\n",
    "plt.style.use('fivethirtyeight')\n",
    "import numpy as np\n",
    "import gsExport"
   ]
  },
  {
   "cell_type": "markdown",
   "metadata": {
    "#student": false
   },
   "source": [
    "Deadline: This assignment is due Monday, October 21st at noon (12pm). Late work will not be accepted.\n",
    "\n",
    "You will submit your solutions using both OKpy and Gradescope. You will find detailed submission instructions ([here](https://docs.google.com/document/d/1vrg66vGtBf93xt4-LUQPpacUAQAxIJEeJ10fRsb8oUc/)). **Please do not remove or add cells and please ignore the '#newpage' cells** (these are here to facilitate Gradescope submission).\n",
    "\n",
    "You should start early so that you have time to get help if you're stuck. Post questions on [Piazza](https://piazza.com/class/jzw0f05ebpof0). Check the syllabus  for the office hours schedule. Remember that Connector Assistant office hours are for *coding questions only*."
   ]
  },
  {
   "cell_type": "markdown",
   "metadata": {
    "#student": true
   },
   "source": [
    "## Question 1: Oregon Health Study"
   ]
  },
  {
   "cell_type": "markdown",
   "metadata": {
    "#student": false
   },
   "source": [
    "**(31 points)** In this question we will analyze data from the Oregon Health Study, discussed in detail in Chapter 1 of *Mastering ’Metrics.* Recall that there is non-compliance in this experiment: there are participants that win the lottery that *do not* ultimately enroll in Medicaid, and there are participants that do not win the lottery that *do* enroll Medicaid. We will estimate the causal effect of Medicaid coverage in this context.\n",
    "\n",
    "(Technical note: the results from this exercise will not match the results presented in the book exactly. In particular, the data we use here are limited to participants that live alone. We do this because including participants from larger households complicates the analysis in ways that are outside the scope of this problem set. For more details, read the paper on the Oregon Health Study cited in *Mastering 'Metrics*.)\n",
    "\n",
    "Run the cell below to read in the data. Each row of the table represents a participant in the Oregon Medcaid lottery."
   ]
  },
  {
   "cell_type": "code",
   "execution_count": null,
   "metadata": {
    "#student": false
   },
   "outputs": [],
   "source": [
    "#run this cell to read in the data\n",
    "ohs = Table.read_table(\"ohs_final.csv\")\n",
    "ohs.show(5)"
   ]
  },
  {
   "cell_type": "markdown",
   "metadata": {
    "#student": true
   },
   "source": [
    "**a. (2 points)** The column `any_medicaid` defines whether a participant is with or without Medicaid coverage. Compare the following columns for those two groups:\n",
    "\n",
    "* `doc_any`: indicator for whether participant has any primary care doctor visits after lottery\n",
    "\n",
    "* `cost_any_owe`: indicator for whether participant owes any money for medical expenses 12 months after lottery\n",
    "\n",
    "* `poor_health`: indicator equaling 1 if the participant self-reports their health is poor 12 months after lottery\n",
    "\n",
    "* `female`: indicator for whether participant is female\n",
    "\n",
    "To compare these columns, compute the means of each outcome or characteristic by Medicaid coverage status, and then compute and print the difference in means."
   ]
  },
  {
   "cell_type": "code",
   "execution_count": 2,
   "metadata": {
    "#student": true
   },
   "outputs": [],
   "source": [
    "#write code here"
   ]
  },
  {
   "cell_type": "markdown",
   "metadata": {
    "#student": true
   },
   "source": [
    "**b. (3 points)** Are the differences you’ve measured in **part a** a good estimate for the causal effect of some treatment? If not, why? If so, for what treatment? (You can ignore the possibility of interference or attrition.)"
   ]
  },
  {
   "cell_type": "markdown",
   "metadata": {
    "#student": true
   },
   "source": [
    "*Write answer here*"
   ]
  },
  {
   "cell_type": "markdown",
   "metadata": {
    "#student": true
   },
   "source": [
    "**c. (2 points)** Now, compare and print the same outcomes described in **part a** but for *lottery winners and losers*. This is defined by the column `win_lottery`. A value of 1 means the participant won the lottery; a value of 0 means the participant lost the lottery."
   ]
  },
  {
   "cell_type": "code",
   "execution_count": 3,
   "metadata": {
    "#student": true
   },
   "outputs": [],
   "source": [
    "#write code here"
   ]
  },
  {
   "cell_type": "markdown",
   "metadata": {
    "#student": true
   },
   "source": [
    "**d. (3 points)** Are the differences you’ve measured in **part c** a good estimate for the causal effect of some treatment? If not, why? If so, for what treatment? (Again, you can ignore the possibility of interference or attrition.)"
   ]
  },
  {
   "cell_type": "markdown",
   "metadata": {
    "#student": true
   },
   "source": [
    "*Write answer here*"
   ]
  },
  {
   "cell_type": "markdown",
   "metadata": {
    "#student": false
   },
   "source": [
    "Next you will use this experiment to estimate the causal effect of Medicaid coverage. To do that, you will *instrument* for Medcaid coverage using `win_lottery`, the indicator for winning the lottery."
   ]
  },
  {
   "cell_type": "markdown",
   "metadata": {
    "#student": true
   },
   "source": [
    "**e. (6 points)** What conditions or assumptions are required for this approach to be valid? Describe each of these conditions in the context of this experiment."
   ]
  },
  {
   "cell_type": "markdown",
   "metadata": {
    "#student": true
   },
   "source": [
    "*Write answere here*"
   ]
  },
  {
   "cell_type": "markdown",
   "metadata": {
    "#student": true
   },
   "source": [
    "**f. (3 points)** In the context of this experiment, what defines a *complier*?"
   ]
  },
  {
   "cell_type": "markdown",
   "metadata": {
    "#student": true
   },
   "source": [
    "*Write answer here*"
   ]
  },
  {
   "cell_type": "markdown",
   "metadata": {
    "#student": true
   },
   "source": [
    "**g. (6 points)** For simplicity, let’s assume the monotonicity assumption holds. That is, there are no **defiers**. In class, we discussed how the first stage provides an estimate for the share of experiment participants that are compliers. Based on the data, what would you estimate is the share of participants that are **always-takers**? **Never-takers**?"
   ]
  },
  {
   "cell_type": "code",
   "execution_count": 4,
   "metadata": {
    "#student": true
   },
   "outputs": [],
   "source": [
    "#write code here"
   ]
  },
  {
   "cell_type": "markdown",
   "metadata": {
    "#student": true
   },
   "source": [
    "*Write answer here*"
   ]
  },
  {
   "cell_type": "markdown",
   "metadata": {
    "#student": true
   },
   "source": [
    "**h. (3 points)** Write a general function (in Python) that calculates the *Local Average Treatment Effect* (LATE) for a given outcome, treatment, and instrument."
   ]
  },
  {
   "cell_type": "code",
   "execution_count": 5,
   "metadata": {
    "#student": true
   },
   "outputs": [],
   "source": [
    "#write code here"
   ]
  },
  {
   "cell_type": "markdown",
   "metadata": {
    "#student": true
   },
   "source": [
    "**i. (3 points)** Apply that function here for the outcome `cost_any_owe`, and describe your findings in a sentence. (If you're unable to create the function, just compute the LATE manually.)"
   ]
  },
  {
   "cell_type": "code",
   "execution_count": 6,
   "metadata": {
    "#student": true
   },
   "outputs": [],
   "source": [
    "#write code here"
   ]
  },
  {
   "cell_type": "markdown",
   "metadata": {
    "#student": true
   },
   "source": [
    "*Write description here*"
   ]
  },
  {
   "cell_type": "markdown",
   "metadata": {
    "#student": false
   },
   "source": [
    "#newpage"
   ]
  },
  {
   "cell_type": "markdown",
   "metadata": {
    "#student": false
   },
   "source": [
    "## Question 2: Should You Break Up? Flip a Coin."
   ]
  },
  {
   "cell_type": "markdown",
   "metadata": {
    "#student": false
   },
   "source": [
    "**(19 points)** In this question, we study an experiment conducted by Steve Levitt, an economist you may know from his [Freakonomics](http://freakonomics.com/) book series and film.\n",
    "\n",
    "In our lives, we face many difficult decisions that have potentially far-reaching consequences for our well-being: for example, whether to quit a job, end a relationship, or move across the country. Often we are quite uncertain about what to do. Levitt's research question is this: do we make good choices when facing such important decisions?\n",
    "\n",
    "This is an ambitious question to answer. In the 'ideal' experiment for answering this question we would take a sample of people unsure about a major life decision; say, for example, whether to quit their job. Then we would *randomize* which decision they actually make and compare measures of well-being. From this hypothetical experiment we could measure the causal effect of quitting your job (for example) on well-being among those considering that decision.\n",
    "\n",
    "Of course, running an experiment like this is impossible in practice -- we cannot force people to quit their job or end a relationship, so even if we randomly *assign* participants to make a particular choice, there is a clear noncompliance problem. Participants can ultimately decide as they please. However, from the tools we developed in class, we can potentially deal with noncompliance.\n",
    "\n",
    "Here's how Levitt's experiment worked: each participant in the experiment has stated that they are having a difficult time making an important life decision. (*I've included the list of major decisions that were included in the study below.*) Each decision has two choices: an 'active choice' (e.g., quit the job) and a 'status quo' choice (don't quit the job). Then, for each participant, *a coin is flipped*. One choice is assigned to 'heads' and the other choice is assigned to 'tails'. The outcome of the coin toss is randomized and the participant is shown the outcome of the coin toss. If the coin toss dictates that the participant make a change, participants were encouraged to make that change within two months. If the coin toss dictates that the participant maintain the status quo, participants were told to maintain the status quo for at least the next two months. In this sense, participants are randomly 'assigned' to make one choice or another. (Remarkably, as you'll see below, some participants actually follow what the coin dictates.) Six months after the coin toss, participants are surveyed on: (1) what choice they ultimately made and (2) how happy they are. About 3,000 participants facing important life decisions complete this survey.\n",
    "\n",
    "Happiness is measured on a 10-point scale. For reference, the standard deviation for a participant's *change* in happiness over 6 months is about 2.5 points.\n",
    "\n",
    "To summarize, the *outcome of interest* is reported happiness. The *treatment of interest* is an indicator for making the active choice (e.g. quit the job). And the *instrument* is an indicator for whether the coin toss dictates an active choice.\n",
    "\n",
    "*You won't need to read this list to answer the questions below, but for reference, these are the important life decisions that are included in the study:*\n",
    " * Should I quit my job?\n",
    " * Should I end a relationship?\n",
    " * Should I go back to school?\n",
    " * Should I start my own business?\n",
    " * Should I move?\n",
    " * Should I quit smoking?\n",
    " * Should I have a child?\n",
    " * Should I propose?"
   ]
  },
  {
   "cell_type": "markdown",
   "metadata": {
    "#student": true
   },
   "source": [
    "**a. (3 points)** Applying the same definitions from lecture, what does the term $Y_{1i}$ represent in this context? What does the term $D_{1i}$ represent in this context?"
   ]
  },
  {
   "cell_type": "markdown",
   "metadata": {
    "#student": true
   },
   "source": [
    "*Write answer here*"
   ]
  },
  {
   "cell_type": "markdown",
   "metadata": {
    "#student": true
   },
   "source": [
    "**b. (3 points)** Levitt finds that, regardless of whether the participant follows the dictate of the coin toss, participants that take the *active* choice report higher happiness. Does this evidence indicate that making the *active* choice increases happiness on average among participants?"
   ]
  },
  {
   "cell_type": "markdown",
   "metadata": {
    "#student": true
   },
   "source": [
    "*Write answer here*"
   ]
  },
  {
   "cell_type": "markdown",
   "metadata": {
    "#student": false
   },
   "source": [
    "The table below summarizes results from the experiment:\n",
    "\n",
    "<img src=\"cointoss_table.png\" alt=\"Drawing\" style=\"width: 600px;\"/>"
   ]
  },
  {
   "cell_type": "markdown",
   "metadata": {
    "#student": true
   },
   "source": [
    "**c. (4 points)** Describe in words what defines a **complier** in the context of this experiment. Approximately what share of participants are compliers? Assume there are no **defiers**."
   ]
  },
  {
   "cell_type": "markdown",
   "metadata": {
    "#student": true
   },
   "source": [
    "*Write answer here*"
   ]
  },
  {
   "cell_type": "markdown",
   "metadata": {
    "#student": true
   },
   "source": [
    "**d. (3 points)** What is the **exclusion restriction** that must be satisfied for us to use the coin toss as an *instrument* for the participant's decision?"
   ]
  },
  {
   "cell_type": "markdown",
   "metadata": {
    "#student": true
   },
   "source": [
    "*Write answer here*"
   ]
  },
  {
   "cell_type": "markdown",
   "metadata": {
    "#student": true
   },
   "source": [
    "**e. (3 points)** Suppose the necessary assumptions are satisifed for us to use the outcome of the coin toss as an *instrument*. Among compliers, what is the average causal effect of making the active choice? (You should report a number and use appropriate units in your description.) What does the experiment imply that compliers should do (at least on average)?"
   ]
  },
  {
   "cell_type": "markdown",
   "metadata": {
    "#student": true
   },
   "source": [
    "*Write answer here*"
   ]
  },
  {
   "cell_type": "markdown",
   "metadata": {
    "#student": true
   },
   "source": [
    "**f. (3 points)** Compliers may be an unusual bunch. How do you think the average treatment effect for **never-takers** would compare to your LATE estimate? Why?"
   ]
  },
  {
   "cell_type": "markdown",
   "metadata": {
    "#student": true
   },
   "source": [
    "*Write answer here*"
   ]
  },
  {
   "cell_type": "markdown",
   "metadata": {
    "#student": false
   },
   "source": [
    "If you're interested in learning more about this experiment, [here's a write-up](https://www.theatlantic.com/business/archive/2016/08/quitting-your-job-and-other-life-choices/495122/) with more detail."
   ]
  },
  {
   "cell_type": "markdown",
   "metadata": {
    "#student": false
   },
   "source": [
    "## Submission"
   ]
  },
  {
   "cell_type": "markdown",
   "metadata": {
    "#student": false
   },
   "source": [
    "Before submitting, please click \"Kernel\" above and click \"Restart & Run All\" to ensure all of your code is working as expected. This is important. Code that does not run cannot be graded. After confirming that all of your work looks and runs as you'd like it to, run **BOTH** of the below cells to submit your work.\n",
    "\n",
    "Make sure that the following runs successfully for submission to OkPy."
   ]
  },
  {
   "cell_type": "code",
   "execution_count": null,
   "metadata": {
    "#student": false
   },
   "outputs": [],
   "source": [
    "from client.api.notebook import Notebook\n",
    "ok = Notebook('pset5.ok')                \n",
    "_ = ok.auth(inline=True)\n",
    "_ = ok.submit()"
   ]
  },
  {
   "cell_type": "markdown",
   "metadata": {
    "#student": false
   },
   "source": [
    "Then, make sure that the following runs successfully to generate a PDF to upload to Gradescope. **Do not upload any other PDF to Gradescope other than the one generated by the below code.** If you have difficulty downloading the PDF, please review the submission instructions ([here](https://docs.google.com/document/d/1vrg66vGtBf93xt4-LUQPpacUAQAxIJEeJ10fRsb8oUc/)) or see Piazza for troubleshooting steps.\n"
   ]
  },
  {
   "cell_type": "code",
   "execution_count": null,
   "metadata": {
    "#student": false
   },
   "outputs": [],
   "source": [
    "gsExport.generateSubmission('pset5.ipynb')"
   ]
  }
 ],
 "metadata": {
  "checksums": [
   "d113daae37cebd4c7f44bf8a0fe38f0f",
   "5ff5769315835a43435a4fb4aecedfb4",
   "b3b0a6bec3590179f09133c5a9414f68",
   "f9ceb4480be84cb0c9b38437b213c39a",
   "a8ad0ec3a313cbec537e9e6578547e14",
   "fa266408cc9a71397785271316ebc702",
   "b8054c49c10eef59f36d7139a7d0b37b",
   "0b187a4e24b8bc61a4a6e5bada82eede",
   "b34df92515c8d9f037de2d2ed6e8eb41",
   "2bd8eca320bcb6078a4f12f00446f00c",
   "dc6cbd7363440ca8e1f1e7a052a3f3f3",
   "44b144a5872baea6e57f91b74b5273ac",
   "b34df92515c8d9f037de2d2ed6e8eb41",
   "15b8c1d49a250b1efddec7e2534fad98",
   "dc6cbd7363440ca8e1f1e7a052a3f3f3",
   "c1b8fb7556036d006a9fa2a6e1d59a00",
   "0c185a87cbb017bef8833a8a1016fad9",
   "0ec143c76315d2966aaabd718038ff9c",
   "3fa8658fd3bf9d3dfc7d826847553cfd",
   "dc6cbd7363440ca8e1f1e7a052a3f3f3",
   "3749cadae0ec165d1eb70ffb7bf09fc3",
   "b34df92515c8d9f037de2d2ed6e8eb41",
   "dc6cbd7363440ca8e1f1e7a052a3f3f3",
   "8c27040e5c5a061613c2d8471f4814f3",
   "b34df92515c8d9f037de2d2ed6e8eb41",
   "97c9c0e21f1c9c749d851f167821f930",
   "b34df92515c8d9f037de2d2ed6e8eb41",
   "8d23244a197d8603bb5bd1ba472ab994",
   "640061103a186fd26f59746dd4d6de57",
   "998e3018a48e6cc3e151dfdf080fe27a",
   "ee4918240b685b7be58eec359bbb175c",
   "91982a5a9f615a5ccf741ec0c1f6e7e8",
   "dc6cbd7363440ca8e1f1e7a052a3f3f3",
   "b066585eea1bcab594ab49186a1bcab0",
   "dc6cbd7363440ca8e1f1e7a052a3f3f3",
   "498f1153dc7b46b8285db9f624140e82",
   "7f2616222c0bc47577658042f58edc5c",
   "dc6cbd7363440ca8e1f1e7a052a3f3f3",
   "bb5870159947b57cc038cd79d37505c6",
   "dc6cbd7363440ca8e1f1e7a052a3f3f3",
   "a7ffc8d120201a1ffc25a34d0b388cdf",
   "dc6cbd7363440ca8e1f1e7a052a3f3f3",
   "55102654429c6f61dcc3e494b2e3b027",
   "dc6cbd7363440ca8e1f1e7a052a3f3f3",
   "f64d6af7f4c6c0a98fae074fef15563e",
   "facbfaf02205d9939fc553c09d23c3cf",
   "a7e5c228c77f19cc11c5929baeeb3657",
   "163f9903c635ae22affa9389f86f333a",
   "32c94881a4d99158787729ded0398f7c",
   "31e0c5aa3b1ad330c9a63dab8738bd43",
   "22c7c74e25bcc56774f16eb6a5a9d514"
  ],
  "kernelspec": {
   "display_name": "Python 3",
   "language": "python",
   "name": "python3"
  },
  "language_info": {
   "codemirror_mode": {
    "name": "ipython",
    "version": 3
   },
   "file_extension": ".py",
   "mimetype": "text/x-python",
   "name": "python",
   "nbconvert_exporter": "python",
   "pygments_lexer": "ipython3",
   "version": "3.6.8"
  },
  "number_of_pagebreaks": 2
 },
 "nbformat": 4,
 "nbformat_minor": 2
}
