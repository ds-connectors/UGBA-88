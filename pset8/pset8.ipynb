{
 "cells": [
  {
   "cell_type": "markdown",
   "metadata": {
    "#student": false
   },
   "source": [
    "## Problem Set 8\n",
    "### UGBA 88: Data and Decisions, Fall 2019"
   ]
  },
  {
   "cell_type": "code",
   "execution_count": null,
   "metadata": {
    "#student": false
   },
   "outputs": [],
   "source": [
    "#run this cell once, then *restart kernel*\n",
    "%pip install gsExport"
   ]
  },
  {
   "cell_type": "code",
   "execution_count": null,
   "metadata": {
    "#student": false
   },
   "outputs": [],
   "source": [
    "from datascience import *\n",
    "%matplotlib inline\n",
    "import matplotlib.pyplot as plt\n",
    "plt.style.use('fivethirtyeight')\n",
    "import numpy as np\n",
    "import gsExport\n",
    "import pandas as pd"
   ]
  },
  {
   "cell_type": "markdown",
   "metadata": {
    "#student": false
   },
   "source": [
    "Deadline: This assignment is due *Wednesday*, December 4th at **11:59pm**. Late work will not be accepted.\n",
    "\n",
    "You will submit your solutions using both OKpy and Gradescope. You will find detailed submission instructions ([here](https://docs.google.com/document/d/1vrg66vGtBf93xt4-LUQPpacUAQAxIJEeJ10fRsb8oUc/)). **Please do not remove or add cells and please ignore the '#newpage' cells** (these are here to facilitate Gradescope submission).\n",
    "\n",
    "You should start early so that you have time to get help if you're stuck. Post questions on [Piazza](https://piazza.com/class/jzw0f05ebpof0). Check the syllabus  for the office hours schedule. Remember that Connector Assistant office hours are for *coding questions only*.\n",
    "\n",
    "<img src=\"yelp.png\" alt=\"Drawing\" style=\"width: 300px;\"/>"
   ]
  },
  {
   "cell_type": "markdown",
   "metadata": {
    "#student": false
   },
   "source": [
    "**(60 points)**\n",
    "\n",
    "### Background\n",
    "\n",
    "In this problem set you will replicate the main results from the paper *Learning from the Crowd: Regression Discontinuity Estimates of the Effects of an Online Review Database*, written by Michael Anderson and Jeremy Magruder. Both authors are on the faculty at UC Berkeley's department of Agricultural and Resource Economics. You can find the paper itself on bCourses. **You will need to reference the paper to complete this problem set.**\n",
    "\n",
    "The authors study the following research question: do online reviews drive consumer demand? More specifically, the authors estimate the causal effect of positive Yelp ratings on restaurant reservation availability. "
   ]
  },
  {
   "cell_type": "markdown",
   "metadata": {
    "#student": false
   },
   "source": [
    "### Data\n",
    "\n",
    "Prof. Anderson and Prof. Magruder have graciously provided us with the data they collected for their paper.\n",
    "\n",
    "The authors collected two data sets and merged them. The first data set is the full history of reviews for each San Francisco restaurant on Yelp.com as of February 2011. Using this database, the authors reconstructed the average rating and total number of reviews for each restaurant at every point in time.\n",
    "\n",
    "The authors combine these data with reservation availability data from a large online\n",
    "reservation website (e.g., Open Table or Reserve). This website lists real-time reservation availability for a subset of the restaurants in the Yelp data. From July 21st to October 29th 2010, the authors recorded reservation availability for a party of four on Thursday, Friday and Saturday evenings. They checked the availability at 7 and 8 pm. Availability was measured approximately 36 hours prior to the time of the desired reservation.\n",
    "\n",
    "We will work with a subset of their data that will be sufficient for replicating the main results. Each row of data corresponds to a restaurant at a given night of reservation availability. Here is a description of each column in the dataset:\n",
    "\n",
    "* `restaurant_id`: ID for restaurant\n",
    "* `restaurant`: Name of restaurant\n",
    "* `date`: Night of reservation\n",
    "* `wk_id`: Week of reservation\n",
    "* `total_reviews`: Total reviews on Yelp\n",
    "* `avg_rating`: Average review rating of restaurant on Yelp\n",
    "* `display_rating`: Restaurant rating *displayed* to Yelp visitors (in half star increments)\n",
    "* `neighborhood`: San Francisco neighborhood of restaurant\n",
    "* `yelp_category`: Cuisine type\n",
    "* `delivers`: Indicator for whether restaurant delivers\n",
    "* `takeout`: Indicator for whether restaurant sells take out food\n",
    "* `price`: price category of restaurant ($ \\$, \\; \\$\\$, \\; \\$ \\$ \\$, \\; \\$ \\$ \\$ \\$ $)\n",
    "* `avail_7pm`: Indicator for whether restaurant is available at 7pm on `date`\n",
    "* `avail_8pm`: Indicator for whether restaurant is available at 8pm on `date`\n"
   ]
  },
  {
   "cell_type": "code",
   "execution_count": null,
   "metadata": {
    "#student": false
   },
   "outputs": [],
   "source": [
    "#run this cell to load the data\n",
    "\n",
    "#read in data\n",
    "yelp_data = Table.read_table(\"yelp_data.csv\")\n",
    "\n",
    "delivers = np.int32(yelp_data.column('delivers') == 'Yes')\n",
    "takeout = np.int32(yelp_data.column('takeout') == 'Yes')\n",
    "\n",
    "yelp_data = yelp_data.with_column('delivers', delivers).with_column('takeout', takeout)\n",
    "\n",
    "yelp_data.show(5)"
   ]
  },
  {
   "cell_type": "markdown",
   "metadata": {
    "#student": false
   },
   "source": [
    "#newpage"
   ]
  },
  {
   "cell_type": "markdown",
   "metadata": {
    "#student": false
   },
   "source": [
    "### Part I: Descriptive Statistics\n",
    "\n",
    "Below are some basic descriptive statistics from the paper that provide useful context. Note: the corresponding values in your data will vary somewhat from the numbers in this table, but not by much.\n",
    "\n",
    "<img src=\"summary_stats.png\" alt=\"Drawing\" style=\"width: 600px;\"/>\n",
    "\n",
    "There are about 325 restaurants represented in our data. The average review rating for a restaurant is about 3.6 stars. Restaurants are available for a 7pm reservation about 59% of the time."
   ]
  },
  {
   "cell_type": "markdown",
   "metadata": {
    "#student": true
   },
   "source": [
    "**a. (2 points)**  Plot a barplot of `display_rating`. This should display the frequency of each value of `display_rating` in the data."
   ]
  },
  {
   "cell_type": "code",
   "execution_count": null,
   "metadata": {
    "#student": true
   },
   "outputs": [],
   "source": [
    "#Write code here"
   ]
  },
  {
   "cell_type": "markdown",
   "metadata": {
    "#student": false
   },
   "source": [
    "`display_rating` takes a discrete set of values, 1 to 5 in half star increments (though our sample takes a more limited range). This masks substantial variation in `avg_rating` across restaurants, which is a simple average of all past Yelp reviews for the restaurant."
   ]
  },
  {
   "cell_type": "markdown",
   "metadata": {
    "#student": true
   },
   "source": [
    "**b. (2 points)** Plot a histogram of `avg_rating`."
   ]
  },
  {
   "cell_type": "code",
   "execution_count": null,
   "metadata": {
    "#student": true
   },
   "outputs": [],
   "source": [
    "#Write code here"
   ]
  },
  {
   "cell_type": "markdown",
   "metadata": {
    "#student": false
   },
   "source": [
    "Even among restaurants with the same `display_rating`, there is substantial variation in `avg_rating`."
   ]
  },
  {
   "cell_type": "markdown",
   "metadata": {
    "#student": false
   },
   "source": [
    "#newpage"
   ]
  },
  {
   "cell_type": "markdown",
   "metadata": {
    "#student": false
   },
   "source": [
    "### Part II: Regression Approach\n",
    "\n",
    "Our objective is to measure the average causal effect of Yelp star rating on reservation availability."
   ]
  },
  {
   "cell_type": "markdown",
   "metadata": {
    "#student": true
   },
   "source": [
    "**c. (4 points)**  Describe a hypothetical experiment that would identify the causal effect of Yelp star ratings on reservation availability."
   ]
  },
  {
   "cell_type": "markdown",
   "metadata": {
    "#student": true
   },
   "source": [
    "*Write your answer here*"
   ]
  },
  {
   "cell_type": "markdown",
   "metadata": {
    "#student": false
   },
   "source": [
    "In the absence of an experiment, a natural approach to use here is **regression**. In this section we will estimate the relationship between Yelp star ratings and availability."
   ]
  },
  {
   "cell_type": "markdown",
   "metadata": {
    "#student": true
   },
   "source": [
    "**d. (2 points)** Create a scatter plot with `display_rating` on the horizontal axis and the average value of `avail_7pm` by display rating on the vertical axis. (Hint: your plot should have 5 points total.)"
   ]
  },
  {
   "cell_type": "code",
   "execution_count": null,
   "metadata": {
    "#student": true
   },
   "outputs": [],
   "source": [
    "#Write code here"
   ]
  },
  {
   "cell_type": "markdown",
   "metadata": {
    "#student": true
   },
   "source": [
    "**e. (3 points)** Based on your plot from **part (d)**, describe the relationship between `display_rating` and `avail_7pm`."
   ]
  },
  {
   "cell_type": "markdown",
   "metadata": {
    "#student": true
   },
   "source": [
    "*Write your answer here*"
   ]
  },
  {
   "cell_type": "markdown",
   "metadata": {
    "#student": true
   },
   "source": [
    "**f. (5 points)**  Estimate a regression model with `avail_7pm` as the dependent variable and `display_rating` as the explanatory variable. Report the coefficients. Interpret the coefficent on `display_rating` in a full sentence. (Be sure to mention the *magnitude* of the estimate and not just the *sign*.)"
   ]
  },
  {
   "cell_type": "code",
   "execution_count": null,
   "metadata": {
    "#student": true
   },
   "outputs": [],
   "source": [
    "#write your code here: define MSE function"
   ]
  },
  {
   "cell_type": "code",
   "execution_count": null,
   "metadata": {
    "#student": true
   },
   "outputs": [],
   "source": [
    "#write any additional code here"
   ]
  },
  {
   "cell_type": "markdown",
   "metadata": {
    "#student": true
   },
   "source": [
    "*Interpret coefficient here*"
   ]
  },
  {
   "cell_type": "markdown",
   "metadata": {
    "#student": false
   },
   "source": [
    "This coefficient may not have a causal interpretation. Restaurants with higher display ratings may have less availability for reasons unrelated to the causal effect of the display rating. Next, we investigate `price` as a potential confounding variable. [We will assume here that restaurants do not change their pricing in response to their Yelp rating.]"
   ]
  },
  {
   "cell_type": "markdown",
   "metadata": {
    "#student": true
   },
   "source": [
    "**g. (2 points)** Create a scatter plot with `display_rating` on the horizontal axis and average `price` by display rating on the vertical axis."
   ]
  },
  {
   "cell_type": "code",
   "execution_count": null,
   "metadata": {
    "#student": true
   },
   "outputs": [],
   "source": [
    "#Write code here"
   ]
  },
  {
   "cell_type": "markdown",
   "metadata": {
    "#student": true
   },
   "source": [
    "**h. (3 points)** Describe the pattern you see. What issue does this present for estimating the causal effect of `display_rating` on reservation availability?"
   ]
  },
  {
   "cell_type": "markdown",
   "metadata": {
    "#student": true
   },
   "source": [
    "*Write your answer here*"
   ]
  },
  {
   "cell_type": "markdown",
   "metadata": {
    "#student": false
   },
   "source": [
    "Of course, we can always include `price` as a control in our regression model."
   ]
  },
  {
   "cell_type": "markdown",
   "metadata": {
    "#student": true
   },
   "source": [
    "**i. (3 points)** Estimate the following regression model:\n",
    "\n",
    "$$\\text{avail}\\_\\text{7pm}_{i} = \\alpha + \\beta \\text{display}\\_\\text{rating}_{i} + \\gamma \\text{price}_{i} + e_{i}$$\n",
    "\n",
    "**Be sure to report the coefficients.**"
   ]
  },
  {
   "cell_type": "code",
   "execution_count": null,
   "metadata": {
    "#student": true
   },
   "outputs": [],
   "source": [
    "#write your code here: define MSE function"
   ]
  },
  {
   "cell_type": "code",
   "execution_count": null,
   "metadata": {
    "#student": true
   },
   "outputs": [],
   "source": [
    "#write any additional code here"
   ]
  },
  {
   "cell_type": "markdown",
   "metadata": {
    "#student": true
   },
   "source": [
    "**j. (3 points)** Interpret the estimated coefficient $\\beta$ in a full sentence. (Be sure to mention the *magnitude* of the estimate and not just the *sign*.)"
   ]
  },
  {
   "cell_type": "markdown",
   "metadata": {
    "#student": true
   },
   "source": [
    "*Write your answer here*"
   ]
  },
  {
   "cell_type": "markdown",
   "metadata": {
    "#student": false
   },
   "source": [
    "However, even after controlling for price, there may be other confounding factors that differ between restaurants with high and low ratings that produce an omitted variable bias."
   ]
  },
  {
   "cell_type": "markdown",
   "metadata": {
    "#student": true
   },
   "source": [
    "**k. (5 points)** Describe a potential confounding factor that would generate an **omitted variable bias** in our regression of of restaurant availability on `display_rating` (with `price` already included as a control). What sign would you anticipate for this omitted variable bias, and why?"
   ]
  },
  {
   "cell_type": "markdown",
   "metadata": {
    "#student": true
   },
   "source": [
    "*Write your answer here*"
   ]
  },
  {
   "cell_type": "markdown",
   "metadata": {
    "#student": false
   },
   "source": [
    "#newpage"
   ]
  },
  {
   "cell_type": "markdown",
   "metadata": {
    "#student": false
   },
   "source": [
    "### Part III: Regression Discontinuity Approach\n",
    "\n",
    "Though we can control for *observable* differences across restaurants using regression, *unobservable* differences remain a major concern. Fortunately, Yelp's review system provides a natural regression discontinuity research design that may allow us to account for *unobservable* differences across restaurants. `avg_rating` will serve as the running variable.\n",
    "\n",
    "Here is an explanation provided in the text of Anderson and Magruder (2012):\n",
    "\n",
    "*\"When leaving a review on Yelp, a user must assign a rating from 1 to 5 stars in whole-star\n",
    "increments. Yelp aggregates all reviews for a given business and displays the average\n",
    "rating prominently. However, when Yelp computes the average rating they round off to\n",
    "the nearest half-star. Two restaurants that have similar average ratings can thus appear\n",
    "to be of very different quality. For example, a restaurant with an average rating of 3.24\n",
    "displays a 3-star average rating while a restaurant with an average rating of 3.26 displays\n",
    "a 3.5-star average rating.\"*\n",
    "\n",
    "In this section we will implement this idea. First, we will confirm that `display_rating` changes sharply around specific cutoffs in `avg_rating`. We will do this by creating a *bin scatter* plot as we saw in lecture. We will bin the data by `avg_rating`, then plot the average `display_rating` for each bin around the cutoff. We will use a bandwidth of 0.5. That is, we will focus on restaurants with value `avg_rating` within 0.5 of the cutoff."
   ]
  },
  {
   "cell_type": "code",
   "execution_count": null,
   "metadata": {
    "#student": false
   },
   "outputs": [],
   "source": [
    "#create grid for avg_rating bins\n",
    "break_points = np.arange(2.75,4.80,0.05)\n",
    "\n",
    "#create column of bins\n",
    "bins = pd.cut(yelp_data.column('avg_rating'), break_points, right = False)\n",
    "\n",
    "#add bins to data\n",
    "yelp_data = yelp_data.with_column('bin', bins)"
   ]
  },
  {
   "cell_type": "code",
   "execution_count": null,
   "metadata": {
    "#student": false
   },
   "outputs": [],
   "source": [
    "#create table of bin means around 4 star cutoff\n",
    "#bandwidth = 0.5\n",
    "disc4_means = yelp_data.where('avg_rating', are.between_or_equal_to(3.25, 4.25)).group('bin', collect = np.mean)\n",
    "\n",
    "plt.scatter(disc4_means.column('avg_rating mean'), disc4_means.column('display_rating mean'))\n",
    "plt.title('Display Rating by Average Review Rating')\n",
    "plt.xlabel('Average Review Rating')\n",
    "plt.axvline(x=3.75, linewidth=1, color = 'red')"
   ]
  },
  {
   "cell_type": "markdown",
   "metadata": {
    "#student": false
   },
   "source": [
    "The display rating changes sharply once `avg_rating` reaches 3.75. [The paper exploits similar cutoffs at 3.25 (moving from 3 stars to 3.5 stars) and 4.25 (moving from 4 stars to 4.5 stars).]"
   ]
  },
  {
   "cell_type": "markdown",
   "metadata": {
    "#student": true
   },
   "source": [
    "**l. (3 points)** Compared to the regression approach taken in **Part II**, what are the advantages of this approach to estimating the causal effect of a Yelp star rating?"
   ]
  },
  {
   "cell_type": "markdown",
   "metadata": {
    "#student": true
   },
   "source": [
    "*Write your answer here*"
   ]
  },
  {
   "cell_type": "markdown",
   "metadata": {
    "#student": true
   },
   "source": [
    "**m. (3 points)** We can use this regression discontinuity approach to estimate the causal effect of a Yelp star rating on availability. If the standard regression discontinuity assumptions are met, we will recover this treatment effect *for what set of restaurants*?"
   ]
  },
  {
   "cell_type": "markdown",
   "metadata": {
    "#student": true
   },
   "source": [
    "*Write your answer here*"
   ]
  },
  {
   "cell_type": "markdown",
   "metadata": {
    "#student": false
   },
   "source": [
    "An important identifying assumption for the RD approach is that other restaurant characteristics vary *smoothly* or *continuously* in the running variable at the cutoff. In other words, we should not see a discontinuity in these other covariates.\n",
    "\n",
    "Below we check whether `price` varies continuously at the cutoff. This is the same plot as above with `display_rating` replaced by `price`."
   ]
  },
  {
   "cell_type": "code",
   "execution_count": null,
   "metadata": {
    "#student": false
   },
   "outputs": [],
   "source": [
    "#run this cell to generate price plot\n",
    "\n",
    "plt.scatter(disc4_means.column('avg_rating mean'), disc4_means.column('price mean'))\n",
    "plt.title('Price by Average Review Rating')\n",
    "plt.xlabel('Average Review Rating')\n",
    "plt.axvline(x=3.75, linewidth=1, color = 'red')"
   ]
  },
  {
   "cell_type": "markdown",
   "metadata": {
    "#student": false
   },
   "source": [
    "By contrast to `display_rating`, there is no clear discontinuity in `price` at the cutoff of 3.75. This is consistent with the continuity assumption from lecture (and the text)."
   ]
  },
  {
   "cell_type": "markdown",
   "metadata": {
    "#student": false
   },
   "source": [
    "Next, you'll make the main set of RD plots: plots of the outcome against the running variable."
   ]
  },
  {
   "cell_type": "markdown",
   "metadata": {
    "#student": true
   },
   "source": [
    "**n. (6 points)** Replicate Figure 2(b) from the paper. [Your figure should be close, but not quite identical.]"
   ]
  },
  {
   "cell_type": "code",
   "execution_count": null,
   "metadata": {
    "#student": true
   },
   "outputs": [],
   "source": [
    "#Write code for figure here"
   ]
  },
  {
   "cell_type": "markdown",
   "metadata": {
    "#student": true
   },
   "source": [
    "**o. (5 points)** Estimate the regression discontinuity model for the figure above. Using a bandwidth of 0.5 (meaning restricting the data to observations with values of `avg_rating` within 0.5 of the cutoff, 3.75), estimate the following regression model:\n",
    "\n",
    "$$\\text{avail}\\_\\text{7pm}_{i} = \\alpha + \\beta \\mathbb{1}_{\\text{4 stars}} + \\gamma (\\text{avg}\\_\\text{rating}_{i} - c) + \\delta (\\text{avg}\\_\\text{rating}_{i} - c) \\times \\mathbb{1}_{\\text{4 stars}}  + e_{i}$$\n",
    "\n",
    "where $c = 3.75$, the cutoff for a `display_rating` of 4. Note that $\\mathbb{1}_{\\text{4 stars}}$ is an indicator for a `display_rating` of 4.\n",
    "\n",
    "**Be sure to report the coefficients.**"
   ]
  },
  {
   "cell_type": "code",
   "execution_count": null,
   "metadata": {
    "#student": true
   },
   "outputs": [],
   "source": [
    "#create indicator for a display_rating value of 4\n",
    "disp_4 = np.int32(yelp_data.column('display_rating') == 4)\n",
    "\n",
    "yelp_data = yelp_data.with_column('disp_4', disp_4)"
   ]
  },
  {
   "cell_type": "code",
   "execution_count": null,
   "metadata": {
    "#student": true
   },
   "outputs": [],
   "source": [
    "#write your code here: define MSE function"
   ]
  },
  {
   "cell_type": "code",
   "execution_count": null,
   "metadata": {
    "#student": true
   },
   "outputs": [],
   "source": [
    "#write any additional code here"
   ]
  },
  {
   "cell_type": "markdown",
   "metadata": {
    "#student": true
   },
   "source": [
    "**p. (3 points)** Based on this model, what do you estimate is the causal effect of a *half star* increase in Yelp rating on reservation availability?"
   ]
  },
  {
   "cell_type": "markdown",
   "metadata": {
    "#student": true
   },
   "source": [
    "*Write your answer here*"
   ]
  },
  {
   "cell_type": "markdown",
   "metadata": {
    "#student": true
   },
   "source": [
    "**q. (3 points)** Run the cell below to overlay your regression line over the bin scatter plot. Replace the values `alpha` ($\\alpha$), `beta` ($\\beta$), `gamma` ($\\gamma$), and `delta` ($\\delta$) with your coefficient estimates."
   ]
  },
  {
   "cell_type": "code",
   "execution_count": null,
   "metadata": {
    "#student": true
   },
   "outputs": [],
   "source": [
    "alpha = ...\n",
    "beta = ...\n",
    "gamma = ...\n",
    "delta = ...\n",
    "\n",
    "#plot regression lines\n",
    "X_plot_pre = np.linspace(-0.5, 0, 10)\n",
    "plt.plot(X_plot_pre, alpha + X_plot_pre*gamma, color = 'black')\n",
    "\n",
    "X_plot_post = np.linspace(0, 0.5, 10)\n",
    "plt.plot(X_plot_post, alpha + beta + X_plot_post*(gamma + delta), color = 'black')\n",
    "\n",
    "dist_4 = yelp_data.where('avg_rating', are.between_or_equal_to(3.25, 4.25)).column('avg_rating') - 3.75\n",
    "disc4_means = yelp_data.where('avg_rating', are.between_or_equal_to(3.25, 4.25)).with_column('dist_4', dist_4).group('bin', collect = np.mean)\n",
    "\n",
    "\n",
    "#generate bin scatter plot\n",
    "plt.scatter(disc4_means.column('dist_4 mean'), disc4_means.column('avail_7pm mean'))\n",
    "plt.title('7pm Availability by Average Review Rating')\n",
    "plt.xlabel('Average Review Rating')\n",
    "plt.axvline(x=0, linewidth=1, color = 'red')"
   ]
  },
  {
   "cell_type": "markdown",
   "metadata": {
    "#student": true
   },
   "source": [
    "**r. (3 points)** Describe how this figure provides visual evidence for the average causal effect of a restaurant's `dispay_rating` on that restaurant's reservation availability."
   ]
  },
  {
   "cell_type": "markdown",
   "metadata": {
    "#student": true
   },
   "source": [
    "*Write your answer here*"
   ]
  },
  {
   "cell_type": "markdown",
   "metadata": {
    "#student": false
   },
   "source": [
    "## Submission"
   ]
  },
  {
   "cell_type": "markdown",
   "metadata": {
    "#student": false
   },
   "source": [
    "Before submitting, please click \"Kernel\" above and click \"Restart & Run All\" to ensure all of your code is working as expected. This is important. Code that does not run cannot be graded. After confirming that all of your work looks and runs as you'd like it to, run **BOTH** of the below cells to submit your work.\n",
    "\n",
    "Make sure that the following runs successfully for submission to OkPy."
   ]
  },
  {
   "cell_type": "code",
   "execution_count": null,
   "metadata": {
    "#student": false
   },
   "outputs": [],
   "source": [
    "from client.api.notebook import Notebook\n",
    "ok = Notebook('pset8.ok')                \n",
    "_ = ok.auth(inline=True)\n",
    "_ = ok.submit()"
   ]
  },
  {
   "cell_type": "code",
   "execution_count": null,
   "metadata": {
    "#student": false
   },
   "outputs": [],
   "source": [
    "gsExport.generateSubmission('pset8.ipynb')"
   ]
  },
  {
   "cell_type": "markdown",
   "metadata": {
    "#student": false
   },
   "source": [
    "Then, make sure that the following runs successfully to generate a PDF to upload to Gradescope. **Do not upload any other PDF to Gradescope other than the one generated by the below code.** If you have difficulty downloading the PDF, please review the submission instructions ([here](https://docs.google.com/document/d/1vrg66vGtBf93xt4-LUQPpacUAQAxIJEeJ10fRsb8oUc/)) or see Piazza for troubleshooting steps."
   ]
  }
 ],
 "metadata": {
  "checksums": [
   "c15f95b912912d2c6e578755d40459ac",
   "5ff5769315835a43435a4fb4aecedfb4",
   "b3b0a6bec3590179f09133c5a9414f68",
   "060e9ac42cf2df14f338178fccebc852",
   "b3236aa17a224bba267cf1a521e32696",
   "f52548d8542284115df5aefdbbd116a3",
   "5b11632ffdd278846749b6d3ea138372",
   "640061103a186fd26f59746dd4d6de57",
   "d9f72b0a25f1bf71ea331525c5ee13e6",
   "020e1a589ca901da336bdaede6ec6e90",
   "92e602fede166dca65dd8b618a07fbff",
   "83a7b1425f79e1cddfc6a155183471a0",
   "617f506d0ec4a34e89bbad551944ec7f",
   "92e602fede166dca65dd8b618a07fbff",
   "e619f660ad087d9e76086a6ef2859a2f",
   "640061103a186fd26f59746dd4d6de57",
   "5488b751bd1f40d465ebd1593577bd51",
   "c17d62ea6b3ed62b0c21ae92e168cba1",
   "0146536757eb097d12e4b27748df4e3b",
   "feee7d0325f597bdf414bb081936d32e",
   "1f2f21486c48d9889ac7708a7acb3288",
   "92e602fede166dca65dd8b618a07fbff",
   "fb7f084a9c1638aedfbdd80f23d836c7",
   "0146536757eb097d12e4b27748df4e3b",
   "942a58b37b1f6e06b351d441d6704a2e",
   "29251400214d76dce3adc61e8e25098c",
   "f9dd40b6071c0417523d8b26cf140d83",
   "f1a4648a5c1a1472817c3ca5ddd8ebfc",
   "c21f1842dd54b29acd1894f72ae593e8",
   "b26043753c503ffbccc42846e4d951b5",
   "92e602fede166dca65dd8b618a07fbff",
   "7962b2b5484818eb55f0fc91a3751abc",
   "0146536757eb097d12e4b27748df4e3b",
   "ae2749c3d7f86d75799ab708b963791e",
   "18381ecdefaaf4b2b84b1ccec2ad7be0",
   "29251400214d76dce3adc61e8e25098c",
   "f9dd40b6071c0417523d8b26cf140d83",
   "434c2fec01c156fda0376a6bb11d89e5",
   "0146536757eb097d12e4b27748df4e3b",
   "71b308cf0847e277caa19fe7621bcced",
   "b9d89827a119f6c5012ff6b2655c7842",
   "0146536757eb097d12e4b27748df4e3b",
   "640061103a186fd26f59746dd4d6de57",
   "02f38a080f64c309cdb100c069916277",
   "49759bdbb6a8df287dc6ccd0337c7b60",
   "819d1a7e3daa6440350e0d2c9f5b2791",
   "6ef15fe916af62d793f81702b9d47ac7",
   "167c0607033fc88f976960c8c14f24a1",
   "0146536757eb097d12e4b27748df4e3b",
   "5975f1d8074fcdcb8101a7477211b401",
   "0146536757eb097d12e4b27748df4e3b",
   "5d57d8d62d18c6734c6b5f6536bb81a0",
   "5d6c1ea4ec79c9787c5147b719d985b0",
   "0e1cdc230849af1f577aecc37fc3c333",
   "14e019298f22878c9d5372a0435ff002",
   "06dc12162da398b67cc106e0acaa52b4",
   "49c09f4246271bc63e35ca272c6d4f9a",
   "0234396929b7b4a85057b8550cca4dd2",
   "3dff7fc5dad6ba9a30d8098b5484c07b",
   "29251400214d76dce3adc61e8e25098c",
   "f9dd40b6071c0417523d8b26cf140d83",
   "433e0a16b442c1a8ca3a49913f005d45",
   "0146536757eb097d12e4b27748df4e3b",
   "5db556fcb298ac99792ddcf88fef451f",
   "c9f8d7c84ad85cf5a733a29ce003706e",
   "0253ef4cde538c76fc455c8114e051d3",
   "0146536757eb097d12e4b27748df4e3b",
   "facbfaf02205d9939fc553c09d23c3cf",
   "a7e5c228c77f19cc11c5929baeeb3657",
   "2f30e681b6806807be9de324071b9485",
   "b8ab0c3eb35fea339657985ef4052c43",
   "f3e664e4ef64a163e46e58f47b17b16e",
   "32c94881a4d99158787729ded0398f7c"
  ],
  "kernelspec": {
   "display_name": "Python 3",
   "language": "python",
   "name": "python3"
  },
  "language_info": {
   "codemirror_mode": {
    "name": "ipython",
    "version": 3
   },
   "file_extension": ".py",
   "mimetype": "text/x-python",
   "name": "python",
   "nbconvert_exporter": "python",
   "pygments_lexer": "ipython3",
   "version": "3.6.8"
  },
  "number_of_pagebreaks": 4
 },
 "nbformat": 4,
 "nbformat_minor": 2
}
