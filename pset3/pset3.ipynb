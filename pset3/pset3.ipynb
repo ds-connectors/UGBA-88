{
 "cells": [
  {
   "cell_type": "markdown",
   "metadata": {
    "#student": false
   },
   "source": [
    "## Problem Set 3\n",
    "### UGBA 88: Data and Decisions, Fall 2019"
   ]
  },
  {
   "cell_type": "code",
   "execution_count": null,
   "metadata": {
    "#student": false
   },
   "outputs": [],
   "source": [
    "#run this cell once, then *restart kernel*\n",
    "%pip install gsExport"
   ]
  },
  {
   "cell_type": "code",
   "execution_count": 1,
   "metadata": {
    "#student": false
   },
   "outputs": [],
   "source": [
    "from datascience import *\n",
    "import numpy as np\n",
    "import gsExport\n",
    "%matplotlib inline"
   ]
  },
  {
   "cell_type": "markdown",
   "metadata": {
    "#student": false
   },
   "source": [
    "Deadline: This assignment is due **Monday, October 7th at noon (12pm)**. Late work will not be accepted.\n",
    "\n",
    "You will submit your solutions using both OKpy and Gradescope. You will find detailed submission instructions ([here](https://docs.google.com/document/d/1vrg66vGtBf93xt4-LUQPpacUAQAxIJEeJ10fRsb8oUc/)). **Please do not remove or add cells and please ignore the '#newpage' cells** (these are here to facilitate Gradescope submission).\n",
    "\n",
    "You should start early so that you have time to get help if you're stuck. Post questions on [Piazza](https://piazza.com/class/jzw0f05ebpof0). Check the syllabus  for the office hours schedule. Remember that Connector Assistant office hours are for *coding questions only*."
   ]
  },
  {
   "cell_type": "markdown",
   "metadata": {
    "#student": true
   },
   "source": [
    "## Question 1: Potential Headaches"
   ]
  },
  {
   "cell_type": "markdown",
   "metadata": {
    "#student": true
   },
   "source": [
    "**(20 points)** This question goes over the potential outcomes framework. For answering the questions below, the treatment is *taking an aspirin* ($D = 0 \\text{ or } 1$) and the outcome is *having a headache* ($Y = 0 \\text{ or } 1$). (Assume the outcome is measured at a specific point in time following the treatment, if applicable.) The population is Berkeley students."
   ]
  },
  {
   "cell_type": "markdown",
   "metadata": {
    "#student": true
   },
   "source": [
    "**a. (4 points)** Explain the meaning of $Y_{i0}$. Can we observe this for everyone in the population?"
   ]
  },
  {
   "cell_type": "markdown",
   "metadata": {
    "#student": true
   },
   "source": [
    "*Write answer here*"
   ]
  },
  {
   "cell_type": "markdown",
   "metadata": {
    "#student": true
   },
   "source": [
    "**b. (4 points)** Explain the meaning of $E[Y_{i0}]$."
   ]
  },
  {
   "cell_type": "markdown",
   "metadata": {
    "#student": true
   },
   "source": [
    "*Write answer here*"
   ]
  },
  {
   "cell_type": "markdown",
   "metadata": {
    "#student": true
   },
   "source": [
    "**c. (4 points)** Explain the meaning of $E[Y_{i0} | D_{i} = 1].$ How does it differ from $E[Y_{i0}]$?"
   ]
  },
  {
   "cell_type": "markdown",
   "metadata": {
    "#student": true
   },
   "source": [
    "*Write answer here*"
   ]
  },
  {
   "cell_type": "markdown",
   "metadata": {
    "#student": true
   },
   "source": [
    "**d. (4 points)** Explain why the *selection bias* term\n",
    "$$E[Y_{i0} | D_{i} = 1] - E[Y_{i0} | D_{i} = 0]$$\n",
    "is zero when $D_{i}$ is randomly assigned across students."
   ]
  },
  {
   "cell_type": "markdown",
   "metadata": {
    "#student": true
   },
   "source": [
    "*Write answer here*"
   ]
  },
  {
   "cell_type": "markdown",
   "metadata": {
    "#student": true
   },
   "source": [
    "**e. (4 points)** Using similar notation to what you see in the questions above, write down the population average *counterfactual* outcome for those that, in reality, *do not* take an Aspirin. (Note: double click the cells above that contain potential outcomes notation to see how to produce similar notation yourself.)"
   ]
  },
  {
   "cell_type": "markdown",
   "metadata": {
    "#student": true
   },
   "source": [
    "*Write answer here*"
   ]
  },
  {
   "cell_type": "markdown",
   "metadata": {
    "#student": false
   },
   "source": [
    "#newpage"
   ]
  },
  {
   "cell_type": "markdown",
   "metadata": {
    "#student": true
   },
   "source": [
    "## Question 2: Employee Turnover"
   ]
  },
  {
   "cell_type": "markdown",
   "metadata": {
    "#student": true
   },
   "source": [
    "**(8 points)** A retailer is evaluating a new training program for its new sales associates. The goal is to reduce the turnover rate –- in particular, the percentage of employees that leave the job within 6 months. The program includes modules on customer service and management skills. Participation in the program is voluntary. According to a company spokesman, those who complete the program are less likely to leave the company than other employees. The spokesman argues that this proves the program is effective in reducing employee turnover."
   ]
  },
  {
   "cell_type": "markdown",
   "metadata": {
    "#student": true
   },
   "source": [
    "**a. (4 points)** Translating this question into the potential outcomes framework, what defines the 'treatment' group and 'control' group in the spokesman's comparison?"
   ]
  },
  {
   "cell_type": "markdown",
   "metadata": {
    "#student": true
   },
   "source": [
    "*Write answer here*"
   ]
  },
  {
   "cell_type": "markdown",
   "metadata": {
    "#student": true
   },
   "source": [
    "**b. (4 points)** Why might the spokesman's conclusion be mistaken?"
   ]
  },
  {
   "cell_type": "markdown",
   "metadata": {
    "#student": true
   },
   "source": [
    "*Write answer here*"
   ]
  },
  {
   "cell_type": "markdown",
   "metadata": {
    "#student": false
   },
   "source": [
    "#newpage"
   ]
  },
  {
   "cell_type": "markdown",
   "metadata": {
    "#student": true
   },
   "source": [
    "## Question 3: Free Snacks"
   ]
  },
  {
   "cell_type": "markdown",
   "metadata": {
    "#student": true
   },
   "source": [
    "**(8 points)** A campus brand ambassador for a snack box subscription service seeks to assess the effect of receiving a free sample on students’ future subscription purchases. A list of student dorm rooms is drawn up and sorted randomly. Dorm rooms in the first half of the randomly sorted list receive a snack box at their door; dorm rooms in the second half of the list do not receive a snack box."
   ]
  },
  {
   "cell_type": "markdown",
   "metadata": {
    "#student": true
   },
   "source": [
    "**a. (2 points)** What is the outcome of interest in this experiment?"
   ]
  },
  {
   "cell_type": "markdown",
   "metadata": {
    "#student": true
   },
   "source": [
    "*Write answer here*"
   ]
  },
  {
   "cell_type": "markdown",
   "metadata": {
    "#student": true
   },
   "source": [
    "**b. (2 points)** What is the treatment 'intervention' in this experiment?"
   ]
  },
  {
   "cell_type": "markdown",
   "metadata": {
    "#student": true
   },
   "source": [
    "*Write answer here*"
   ]
  },
  {
   "cell_type": "markdown",
   "metadata": {
    "#student": true
   },
   "source": [
    "**c. (4 points)** Suppose that students in the treatment group share their free snacks with dormmates. What complications, if any, does this present for using the potential outcomes framework to evaluate the causal effect of the treatment on the outcome?"
   ]
  },
  {
   "cell_type": "markdown",
   "metadata": {
    "#student": true
   },
   "source": [
    "*Write answer here*"
   ]
  },
  {
   "cell_type": "markdown",
   "metadata": {
    "#student": false
   },
   "source": [
    "#newpage"
   ]
  },
  {
   "cell_type": "markdown",
   "metadata": {
    "#student": true
   },
   "source": [
    "## Question 4: Does Working From Home Work?"
   ]
  },
  {
   "cell_type": "markdown",
   "metadata": {
    "#student": false
   },
   "source": [
    "<img src=\"Ctrip-logo.png\" alt=\"Drawing\" style=\"width: 400px;\"/>\n",
    "\n",
    "**(14 points)** In this question you will analyze data from a 2010 experiment conducted by Ctrip, China's largest travel agency. At the time of the study, the company had 16,000 employees and a $7 billion valuation.\n",
    "\n",
    "Ctrip is considering allowing their call center employees to Work From Home (WFH). Allowing employees to WFH will reduce office expenses and potentially increase employee retention by making Ctrip a more attractive place to work. However, Ctrip is worried that employees may not work as hard at home, reducing productivity. To better understand what impact this policy has on productivity, Ctrip decides to run a randomized experiment.\n",
    "\n",
    "The site for the experiment is Ctrip's airfare and hotel departments in Shanghai. These departments take calls from customers and make bookings. Employees typically work 5 shifts a week in teams of about 15 people, plus a manager.\n",
    "\n",
    "More details on how the experiment is conducted are provided below. For now, you only need to know that:\n",
    "   * In order to qualify for WFH, employees must have their own room, broadband internet, and 6+ months of experience in their current position.\n",
    "   * After the experiment ended, all qualifying workers were given the option to WFH or in the office.\n",
    "\n",
    "### Who Chooses to Work from Home?\n",
    "\n",
    "<img src=\"shanghai_office.png\" alt=\"Drawing\" style=\"width: 400px;\"/>\n",
    "<center>Employees in Shanghai office</center>\n",
    "\n",
    "<img src=\"wfh_example.png\" alt=\"Drawing\" style=\"width: 400px;\"/>\n",
    "<center>An employee working from home</center>\n",
    "\n",
    "Before considering the experimental results, you will look at data from after the experiment ended and compare workers that *chose* to work from home to those that *chose* to work at the office. Run the cell below to read in the data."
   ]
  },
  {
   "cell_type": "code",
   "execution_count": null,
   "metadata": {
    "#student": true
   },
   "outputs": [],
   "source": [
    "#run this cell to read in the data\n",
    "workers = Table.read_table('wfh_obs.csv')\n",
    "workers.show(5)"
   ]
  },
  {
   "cell_type": "markdown",
   "metadata": {
    "#student": false
   },
   "source": [
    "Each row corresponds to a specific employee, indexed by `personid`. Below are descriptions of the variables that are included in the data.\n",
    "\n",
    "- `wfh`: Whether the employee Works From Home. This takes a value of 1 for employees that WFH, and 0 for employees that work from the office. (Note: variables that only take the values `0` and `1` are called **indicator** or **dummy** variables. `wfh` is an 'indicator for whether an employee WFH.')\n",
    "\n",
    "- `age`: Employee age\n",
    "   \n",
    "- `grosswage`: Gross wage (1000 Yuan)\n",
    "   \n",
    "- `bedroom`: An indicator for whether the employee has their own bedroom\n",
    "   \n",
    "- `commute`: Commute time to and from the office recorded in minutes"
   ]
  },
  {
   "cell_type": "markdown",
   "metadata": {
    "#student": true
   },
   "source": [
    "**a. (3 points)** Calculate and compare averages of each characteristic for workers that choose to WFH to those that choose to work in the office. What differences, if any, do you notice?"
   ]
  },
  {
   "cell_type": "code",
   "execution_count": 1,
   "metadata": {
    "#student": true
   },
   "outputs": [],
   "source": [
    "#write code here and print output"
   ]
  },
  {
   "cell_type": "markdown",
   "metadata": {
    "#student": true
   },
   "source": [
    "*Write answer here*"
   ]
  },
  {
   "cell_type": "markdown",
   "metadata": {
    "#student": true
   },
   "source": [
    "**b. (4 points)** A Ctrip executive proposes comparing productivity for workers that choose to WFH to those that choose to work in the office to estimate the average causal effect of WFH on worker productivity. The executive argues that if employees that work in the office are more productive, that would imply that WFH reduces productivity. Using your findings in **part (a)**, assess this proposed approach to causal inference."
   ]
  },
  {
   "cell_type": "markdown",
   "metadata": {
    "#student": true
   },
   "source": [
    "*Write answer here*"
   ]
  },
  {
   "cell_type": "markdown",
   "metadata": {
    "#student": false
   },
   "source": [
    "### The Experiment\n",
    "\n",
    "To recruit participants in the experiment, Ctrip asks 996 employees if they want to work from home 4 days a week. 508 volunteered. To participate in the experiment, Ctrip also requires that an employee meet additional requirements, including having their own room, broadband internet, and 6+ months of experience in the position. The final experiment group consists of 255 employees.\n",
    "\n",
    "The **treatment group** works 4 shifts a week at home and 1 shift a week in the office, for 9 months.\n",
    "\n",
    "The **control group** works all 5 shifts in the office.\n",
    "\n",
    "Otherwise treatment and control groups were identical: they had the same shift, same equipment, same work-flow, and same pay structure.\n",
    "\n",
    "To assign employees to the treatment and control groups, Ctrip holds a lottery. After a drawing, employees with even birthdays are assigned to the WFH treatment, while those with odd birthdays are assigned to the control group, and worked in the office as before.\n",
    "\n",
    "<img src=\"drawing.png\" alt=\"Drawing\" style=\"width: 400px;\"/>\n",
    "\n",
    "<center>The lottery drawing</center>\n",
    "\n",
    "Next, you will analyze the experiment results. First, read in the data from the experiment."
   ]
  },
  {
   "cell_type": "code",
   "execution_count": null,
   "metadata": {
    "#student": true
   },
   "outputs": [],
   "source": [
    "#run this cell to read in the data\n",
    "experiment = Table.read_table('wfh_exp.csv')\n",
    "experiment.show(5)"
   ]
  },
  {
   "cell_type": "markdown",
   "metadata": {
    "#student": false
   },
   "source": [
    "Here the variable `treatment` indicates whether an individual was assigned to the treatment group. A value of 0 means the employee was assigned to the control group. A value of 1 means he or she was assigned to the treatment group.\n",
    "\n",
    "The data include a measure of employee productivity, `performance`. `performance` summarizes a variety of performance metrics, including the number of phone calls an employee answers, the number of orders taken, and the number of reservation phone calls made. The measure is scaled to have mean 0 and standard deviation 1 across employees. That is, a one unit increase in `performance` coincides with a one standard deviation increase in productivity. For reference, a one standard deviation increase in phone calls made per week is an increase of about 100 phone calls.\n",
    "\n",
    "(Another note on the experiment data: rather than `commute` from before, we now have a `costofcommute`, which measures the cost of an employees commute in Yuan.)\n",
    "<br>"
   ]
  },
  {
   "cell_type": "markdown",
   "metadata": {
    "#student": true
   },
   "source": [
    "**c. (1 point)** Calculate averages for each worker characteristic (*excluding* `performance`) for workers in the treatment and control groups."
   ]
  },
  {
   "cell_type": "code",
   "execution_count": 2,
   "metadata": {
    "#student": true
   },
   "outputs": [],
   "source": [
    "#write code here and print output"
   ]
  },
  {
   "cell_type": "markdown",
   "metadata": {
    "#student": false
   },
   "source": [
    "You should find that the two groups of workers here are (in general) more comparable than the two groups you compared in **part (a)**. This is to be expected given the (mostly) random assignment of employees to the treatment and control groups. We would not expect people born on even and odd days to be systematically different.\n",
    "\n",
    "Note that there are still some noticeable differences between the treatment and control groups. In particular, the control group is more likely to have children and to be married. These kinds of differences may emerge by chance, even under random assignment. But could they reflect systematic differences between employees born on even and odd days? In Data 8 you discuss how to evaluate the size of these differences."
   ]
  },
  {
   "cell_type": "markdown",
   "metadata": {
    "#student": true
   },
   "source": [
    "**d. (2 points)** Calculate the average difference in `performance` between the treatment and control groups."
   ]
  },
  {
   "cell_type": "code",
   "execution_count": 3,
   "metadata": {
    "#student": true
   },
   "outputs": [],
   "source": [
    "#write code here and print output"
   ]
  },
  {
   "cell_type": "markdown",
   "metadata": {
    "#student": true
   },
   "source": [
    "**e. (4 points)** Interpret the results. (Note: recall the unit of measurement described above). Does the difference in `performance` you observe between the treatment and control groups measure the *causal effect* of WFH on employee productivity? Why or why not?"
   ]
  },
  {
   "cell_type": "markdown",
   "metadata": {
    "#student": true
   },
   "source": [
    "*Write answer here*"
   ]
  },
  {
   "cell_type": "markdown",
   "metadata": {
    "#student": false
   },
   "source": [
    "We will continue to analyze this experiment in the next lab."
   ]
  },
  {
   "cell_type": "markdown",
   "metadata": {
    "#student": false
   },
   "source": [
    "#newpage"
   ]
  },
  {
   "cell_type": "markdown",
   "metadata": {
    "#student": false
   },
   "source": [
    "## Submission"
   ]
  },
  {
   "cell_type": "markdown",
   "metadata": {
    "#student": false
   },
   "source": [
    "Before submitting, please click \"Kernel\" above and click \"Restart & Run All\" to ensure all of your code is working as expected. This is important. Code that does not run cannot be graded. After confirming that all of your work looks and runs as you'd like it to, run **BOTH** of the below cells to submit your work.\n",
    "\n",
    "Make sure that the following runs successfully for submission to OkPy."
   ]
  },
  {
   "cell_type": "code",
   "execution_count": null,
   "metadata": {
    "#student": true
   },
   "outputs": [],
   "source": [
    "from client.api.notebook import Notebook\n",
    "ok = Notebook('pset3.ok')                \n",
    "_ = ok.auth(inline=True)\n",
    "_ = ok.submit()"
   ]
  },
  {
   "cell_type": "markdown",
   "metadata": {
    "#student": false
   },
   "source": [
    "Then, make sure that the following runs successfully to generate a PDF to upload to Gradescope. **Do not upload any other PDF to Gradescope other than the one generated by the below code.** If you have difficulty downloading the PDF, please review the submission instructions ([here](https://docs.google.com/document/d/1vrg66vGtBf93xt4-LUQPpacUAQAxIJEeJ10fRsb8oUc/)) or see Piazza for troubleshooting steps.\n"
   ]
  },
  {
   "cell_type": "code",
   "execution_count": null,
   "metadata": {
    "#student": true
   },
   "outputs": [],
   "source": [
    "gsExport.generateSubmission('pset3.ipynb')"
   ]
  },
  {
   "cell_type": "code",
   "execution_count": null,
   "metadata": {},
   "outputs": [],
   "source": []
  }
 ],
 "metadata": {
  "checksums": [
   "8af56b6904bf5719ef86e7f3557de522",
   "5ff5769315835a43435a4fb4aecedfb4",
   "f29de750dc1bb89fcabf1fc52dcb1cbb",
   "c8f1a43cf7a73309b514e6f4526d3c59",
   "8c99f2c68a1235ac8da8e3ca0374a3ed",
   "470b06c16c82fef712b788e9cf46f4f4",
   "680474ee0bb5db12c031c1dadb60344b",
   "dc6cbd7363440ca8e1f1e7a052a3f3f3",
   "53e306425e5929497de04148f09990ad",
   "dc6cbd7363440ca8e1f1e7a052a3f3f3",
   "47dbdce6a26ec6bf9f19985c7d3ec43b",
   "dc6cbd7363440ca8e1f1e7a052a3f3f3",
   "6042a5c6b3cb25577e6ed7fd0d7caf3b",
   "dc6cbd7363440ca8e1f1e7a052a3f3f3",
   "f860a4de8d824137d1cb4dc6266c6160",
   "dc6cbd7363440ca8e1f1e7a052a3f3f3",
   "640061103a186fd26f59746dd4d6de57",
   "b7a3e00b0cb6738e794e840f5c9475db",
   "09711fcb72f64cc4b884a0b1a5a2fba7",
   "c3b6aafeff900248768ceeb76917a43a",
   "dc6cbd7363440ca8e1f1e7a052a3f3f3",
   "211b9bc01eb1ea263222d5d0dbea6e5d",
   "dc6cbd7363440ca8e1f1e7a052a3f3f3",
   "640061103a186fd26f59746dd4d6de57",
   "d8948a51278e68387f311fe5fbb7d9aa",
   "d7706180bbbabcf969e92fdfe7a0ab5b",
   "06152a19a1d826c48211423767bf1453",
   "dc6cbd7363440ca8e1f1e7a052a3f3f3",
   "e4311554001f405fb0ef01fb42bd4cc6",
   "dc6cbd7363440ca8e1f1e7a052a3f3f3",
   "5a527aa446619497140eb9d07e3c2f56",
   "dc6cbd7363440ca8e1f1e7a052a3f3f3",
   "640061103a186fd26f59746dd4d6de57",
   "9b2d6291f5dc5cda70fd61dad8dc79bc",
   "432f450aa82e072b0a5b0e7b6d81161c",
   "e249eda1f3830d7ca9093476c8129621",
   "8cecee8ef1216d29d1d8060e074510d6",
   "25599f67df394abf112cce2ead9d5ea2",
   "12307cf37b57b531fcb2a46cd600c448",
   "dc6cbd7363440ca8e1f1e7a052a3f3f3",
   "e323aaeedd637a0b75087de002dd612c",
   "dc6cbd7363440ca8e1f1e7a052a3f3f3",
   "8a93309ea305e571ce564e4de891fb59",
   "15ad0011aafc1fc2a753333eff21cb8b",
   "2785b1a6bc3b8a31b5b0757d49aca8df",
   "2cf4b4e5e35e22f01eddb177c35ce73b",
   "12307cf37b57b531fcb2a46cd600c448",
   "7a252df6e2a43dec1d618ff7b7929665",
   "edaf38a3f723d449cfcf78ecd975f9ba",
   "12307cf37b57b531fcb2a46cd600c448",
   "d9fdd27e320f8b75b4bf9d9c53e556ad",
   "dc6cbd7363440ca8e1f1e7a052a3f3f3",
   "b5af710116bd4032116bb4f3fbdf365a",
   "640061103a186fd26f59746dd4d6de57",
   "facbfaf02205d9939fc553c09d23c3cf",
   "a7e5c228c77f19cc11c5929baeeb3657",
   "4ddc9c01a901ce00eec6865124292865",
   "32c94881a4d99158787729ded0398f7c",
   "78717d4aaf96cc271310ebc34d717bf0"
  ],
  "kernelspec": {
   "display_name": "Python 3",
   "language": "python",
   "name": "python3"
  },
  "language_info": {
   "codemirror_mode": {
    "name": "ipython",
    "version": 3
   },
   "file_extension": ".py",
   "mimetype": "text/x-python",
   "name": "python",
   "nbconvert_exporter": "python",
   "pygments_lexer": "ipython3",
   "version": "3.6.8"
  },
  "number_of_pagebreaks": 5
 },
 "nbformat": 4,
 "nbformat_minor": 1
}
