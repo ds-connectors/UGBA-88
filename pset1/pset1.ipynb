{
 "cells": [
  {
   "cell_type": "markdown",
   "metadata": {
    "#student": false
   },
   "source": [
    "## Problem Set 1\n",
    "### UGBA 88: Data and Decisions, Fall 2019"
   ]
  },
  {
   "cell_type": "code",
   "execution_count": null,
   "metadata": {},
   "outputs": [],
   "source": [
    "#run this cell once, then *restart kernel*\n",
    "%pip install gsExport"
   ]
  },
  {
   "cell_type": "code",
   "execution_count": null,
   "metadata": {
    "#student": false
   },
   "outputs": [],
   "source": [
    "#run this cell\n",
    "from datascience import *\n",
    "import gsExport\n",
    "import matplotlib\n",
    "import numpy as np\n",
    "import pandas as pd\n",
    "matplotlib.use('Agg', warn=False)\n",
    "%matplotlib inline"
   ]
  },
  {
   "cell_type": "markdown",
   "metadata": {
    "#student": false
   },
   "source": [
    "This assignment is due **Monday, September 23rd at noon (12pm)**. Late work will not be accepted.\n",
    "\n",
    "You will submit your solutions using both OKpy and Gradescope. You will find detailed submission instructions ([here](https://docs.google.com/document/d/1vrg66vGtBf93xt4-LUQPpacUAQAxIJEeJ10fRsb8oUc/)). **Please do not remove or add cells and please ignore the '#newpage' cells** (these are here to facilitate Gradescope submission).\n",
    "\n",
    "You should start early so that you have time to get help if you're stuck. Post questions on Piazza. Check the syllabus  for the office hours schedule.\n",
    "\n",
    "For some questions, you may need to use the context to read into the survey descriptions a bit more than is explicitly provided. When it doubt, state what assumptions you're making and go from there. You will get full credit for correctly applying the concepts from lecture, even if your (reasonable) interpretation of the description differs some from ours."
   ]
  },
  {
   "cell_type": "markdown",
   "metadata": {
    "#student": true
   },
   "source": [
    "## Question 1: Surveying HR"
   ]
  },
  {
   "cell_type": "markdown",
   "metadata": {
    "#student": false
   },
   "source": [
    "**(10 points)** Based on a brief description of the survey, answer a series of questions about the survey characteristics.\n",
    "\n",
    "A business magazine mailed a questionnaire to a randomly-selected 50% of the human resource directors of all of the Fortune 500 companies. They received responses from 23% of those contacted. Among those who responded, 40% reported that they did not find such surveys intruded significantly on their workday."
   ]
  },
  {
   "cell_type": "markdown",
   "metadata": {
    "#student": true
   },
   "source": [
    "a. **(2 points)** What is the population of interest?"
   ]
  },
  {
   "cell_type": "markdown",
   "metadata": {
    "#student": true
   },
   "source": [
    "*Write answer here*"
   ]
  },
  {
   "cell_type": "markdown",
   "metadata": {
    "#student": true
   },
   "source": [
    "b. **(2 points)** What is the parameter of interest?"
   ]
  },
  {
   "cell_type": "markdown",
   "metadata": {
    "#student": true
   },
   "source": [
    "*Write answer here*"
   ]
  },
  {
   "cell_type": "markdown",
   "metadata": {
    "#student": true
   },
   "source": [
    "c. **(2 points)** What is the sampling frame?"
   ]
  },
  {
   "cell_type": "markdown",
   "metadata": {
    "#student": true
   },
   "source": [
    "*Write answer here*"
   ]
  },
  {
   "cell_type": "markdown",
   "metadata": {
    "#student": true
   },
   "source": [
    "d. **(2 points)** What is the sampling design?"
   ]
  },
  {
   "cell_type": "markdown",
   "metadata": {
    "#student": true
   },
   "source": [
    "*Write answer here*"
   ]
  },
  {
   "cell_type": "markdown",
   "metadata": {
    "#student": true
   },
   "source": [
    "e. **(2 points)** What are potential sources of bias, or other problems with the survey or sample?"
   ]
  },
  {
   "cell_type": "markdown",
   "metadata": {
    "#student": true
   },
   "source": [
    "*Write answer here*"
   ]
  },
  {
   "cell_type": "markdown",
   "metadata": {
    "#student": false
   },
   "source": [
    "#newpage"
   ]
  },
  {
   "cell_type": "markdown",
   "metadata": {
    "#student": true
   },
   "source": [
    "## Question 2: Snack Inspection"
   ]
  },
  {
   "cell_type": "markdown",
   "metadata": {
    "#student": false
   },
   "source": [
    "**(10 points)** Based on a brief description of the survey, answer a series of questions about the survey characteristics.\n",
    "\n",
    "A company packaging snack foods maintains quality control by randomly selecting 10 cases from each day’s production. Each case contains 50 bags. An inspector selects and weights two bags from each case."
   ]
  },
  {
   "cell_type": "markdown",
   "metadata": {
    "#student": true
   },
   "source": [
    "a. **(2 points)** What is the population of interest?"
   ]
  },
  {
   "cell_type": "markdown",
   "metadata": {
    "#student": true
   },
   "source": [
    "*Write answer here*"
   ]
  },
  {
   "cell_type": "markdown",
   "metadata": {
    "#student": true
   },
   "source": [
    "b. **(2 points)** What is the parameter of interest?"
   ]
  },
  {
   "cell_type": "markdown",
   "metadata": {
    "#student": true
   },
   "source": [
    "*Write answer here*"
   ]
  },
  {
   "cell_type": "markdown",
   "metadata": {
    "#student": true
   },
   "source": [
    "c. **(2 points)** What is the sampling frame?"
   ]
  },
  {
   "cell_type": "markdown",
   "metadata": {
    "#student": true
   },
   "source": [
    "*Write answer here*"
   ]
  },
  {
   "cell_type": "markdown",
   "metadata": {
    "#student": true
   },
   "source": [
    "d. **(2 points)** What is the sampling design?"
   ]
  },
  {
   "cell_type": "markdown",
   "metadata": {
    "#student": true
   },
   "source": [
    "*Write answer here*"
   ]
  },
  {
   "cell_type": "markdown",
   "metadata": {
    "#student": true
   },
   "source": [
    "e. **(2 points)** What are potential sources of bias, or other problems with the survey or sample?"
   ]
  },
  {
   "cell_type": "markdown",
   "metadata": {
    "#student": true
   },
   "source": [
    "*Write answer here*"
   ]
  },
  {
   "cell_type": "markdown",
   "metadata": {
    "#student": false
   },
   "source": [
    "#newpage"
   ]
  },
  {
   "cell_type": "markdown",
   "metadata": {
    "#student": true
   },
   "source": [
    "## Question 3: Surveying Busy Doctors"
   ]
  },
  {
   "cell_type": "markdown",
   "metadata": {
    "#student": false
   },
   "source": [
    "**(30 points)** A medical device company has surveyed a sample doctors that use their products on customer satisfaction. The original sampling frame was a simple random sample of all such doctors. In this questions, we will look at response rates to the survey and summarize overall customer satisfaction.\n",
    "\n",
    "The data contain the list of doctors that were sent the survey, whether the doctor responded to the survey, and the doctor’s reported satisfaction with the company’s devices (measured on a 1-5 scale, where ‘1’ indicates ‘not satisfied at all’ and ‘5’ indicates ‘completely satisfied’). The data also include the doctor’s hospital size, which historically has been a key distinguishing feature of the company’s customers. The company divides its customers into three categories depending on their hospital size: small (1-50 beds), medium (51-500 beds), and large (501+ beds)."
   ]
  },
  {
   "cell_type": "code",
   "execution_count": null,
   "metadata": {
    "#student": false
   },
   "outputs": [],
   "source": [
    "#read in hospital survey data\n",
    "hospital_data = Table.read_table('hospital_survey.csv')\n",
    "hospital_data"
   ]
  },
  {
   "cell_type": "markdown",
   "metadata": {
    "#student": true
   },
   "source": [
    "a. **(1 point)** Let’s start by getting a feel for what’s contained in these data. What are the names of the table columns?"
   ]
  },
  {
   "cell_type": "code",
   "execution_count": null,
   "metadata": {
    "#student": true
   },
   "outputs": [],
   "source": [
    "#Output column names"
   ]
  },
  {
   "cell_type": "markdown",
   "metadata": {
    "#student": true
   },
   "source": [
    "b. **(2 points)** Using the description of the data given above, describe the meaning of each variable name."
   ]
  },
  {
   "cell_type": "markdown",
   "metadata": {
    "#student": true
   },
   "source": [
    "`doctor_id`: ...\n",
    "\n",
    "`hospital_type`: ...\n",
    "\n",
    "`response`: ...\n",
    "\n",
    "`satisfaction`: ..."
   ]
  },
  {
   "cell_type": "markdown",
   "metadata": {
    "#student": true
   },
   "source": [
    "c. **(2 points)** How many doctors were surveyed? How many doctors returned responses?"
   ]
  },
  {
   "cell_type": "code",
   "execution_count": null,
   "metadata": {
    "#student": true
   },
   "outputs": [],
   "source": [
    "#calculate number of doctors surveyed"
   ]
  },
  {
   "cell_type": "code",
   "execution_count": null,
   "metadata": {
    "#student": true
   },
   "outputs": [],
   "source": [
    "#calculate number of responses"
   ]
  },
  {
   "cell_type": "markdown",
   "metadata": {
    "#student": true
   },
   "source": [
    "d. **(1 point)** Now, let’s look at the actual responses. What is the average value of `satisfaction` *among respondents*?"
   ]
  },
  {
   "cell_type": "code",
   "execution_count": null,
   "metadata": {
    "#student": true
   },
   "outputs": [],
   "source": [
    "#calculate average here"
   ]
  },
  {
   "cell_type": "markdown",
   "metadata": {
    "#student": true
   },
   "source": [
    "e. **(3 points)** Create two bar plots that depict the distribution of `hospital_type`: one for all doctors that received the survey and another for doctors that responded."
   ]
  },
  {
   "cell_type": "code",
   "execution_count": null,
   "metadata": {
    "#student": true
   },
   "outputs": [],
   "source": [
    "#create the first plot here"
   ]
  },
  {
   "cell_type": "code",
   "execution_count": null,
   "metadata": {
    "#student": true
   },
   "outputs": [],
   "source": [
    "#create the second plot here"
   ]
  },
  {
   "cell_type": "markdown",
   "metadata": {
    "#student": true
   },
   "source": [
    "f. **(3 points)** What can you infer about response rates differences by `hospital_type` based on these figures?"
   ]
  },
  {
   "cell_type": "markdown",
   "metadata": {
    "#student": true
   },
   "source": [
    "*Write answer here*"
   ]
  },
  {
   "cell_type": "markdown",
   "metadata": {
    "#student": true
   },
   "source": [
    "g. **(2 points)** Among respondents, what is the average value of `satisfaction` by `hospital_type`? Note: you should report 3 values."
   ]
  },
  {
   "cell_type": "code",
   "execution_count": null,
   "metadata": {
    "#student": true
   },
   "outputs": [],
   "source": [
    "#calculate average for small hospitals here"
   ]
  },
  {
   "cell_type": "code",
   "execution_count": null,
   "metadata": {
    "#student": true
   },
   "outputs": [],
   "source": [
    "#calculate average for medium hospitals here"
   ]
  },
  {
   "cell_type": "code",
   "execution_count": null,
   "metadata": {
    "#student": true
   },
   "outputs": [],
   "source": [
    "#calculate average for large hospitals here"
   ]
  },
  {
   "cell_type": "markdown",
   "metadata": {
    "#student": true
   },
   "source": [
    "h. **(4 points)** What problem do your answers to (f) and (g) present for interpreting the survey?"
   ]
  },
  {
   "cell_type": "markdown",
   "metadata": {
    "#student": true
   },
   "source": [
    "*Write answer here*"
   ]
  },
  {
   "cell_type": "markdown",
   "metadata": {
    "#student": true
   },
   "source": [
    "i. **(2 points)** When survey response rates vary systematically by group, a common approach is to use sample weights. The general idea is to put more weight on responses from groups that are underrepresented among survey respondents to make the survey data more representative of the population. For example, many general population surveys find that women are more likely to respond than men, so that the fraction of *respondents* that are women is larger than the fraction of the *population* that are women. \n",
    "\n",
    "Let’s weight our survey data to account for differences in response rates by `hospital_type`.\n",
    "\n",
    "The weights we will use are the following:\n",
    "$$w_g = \\frac{\\text{group } g \\text{'s population share}}{\\text{group } g \\text{'s respondents share}}$$\n",
    "\n",
    "where groups are defined by `hospital_type`. Note that each group's weight is the *inverse* of the **response rate.** Groups with *lower* response rates will receive a *larger* weight.\n",
    "\n",
    "Also note that these weights will not sum to 1. Hence, when using these weights to calculate sample statistics, we will need to re-normalize the weights (see below for how we calculate a **weighted average**).\n",
    "\n",
    "Add a column `weights` of survey weights to the table `hospital_data`. Construct these weights according to the formula above."
   ]
  },
  {
   "cell_type": "code",
   "execution_count": null,
   "metadata": {
    "#student": true
   },
   "outputs": [],
   "source": [
    "#add column `weights` and print table"
   ]
  },
  {
   "cell_type": "markdown",
   "metadata": {
    "#student": true
   },
   "source": [
    "j. **(2 points)** To apply these weights, let’s first introduce the concept of a **weighted average**. For an array of values $x_1, x_2, ...,x_n$ and weights $w_1, w_2, ..., w_n$, the average is \n",
    "\n",
    "$$\\bar{x}_w=\\frac{w_1x_1+...+w_nx_n}{w_1+...+w_n}=\\frac{\\sum_i^n w_ix_i}{\\sum w_i}.$$\n",
    "\n",
    "Define a new column `large` that is equal to 1 if the doctor’s `hospital_type` = 'large’ and zero otherwise. Create a **function** that takes as inputs a column of `values` and a column of `weights` and produces a weighted average of `values`."
   ]
  },
  {
   "cell_type": "code",
   "execution_count": null,
   "metadata": {
    "#student": true
   },
   "outputs": [],
   "source": [
    "#add column `large` and print table"
   ]
  },
  {
   "cell_type": "code",
   "execution_count": null,
   "metadata": {
    "#student": true
   },
   "outputs": [],
   "source": [
    "#create weighted average function\n",
    "def weighted_avg(values, weights):\n",
    "    ..."
   ]
  },
  {
   "cell_type": "markdown",
   "metadata": {
    "#student": true
   },
   "source": [
    "k. **(4 points)** What is the weighted average for the column `large` among respondents? How does that compare to the simple (unweighted) average for the column `large` among respondents? How do those two averages compare to the (unweighted) average for the column `large` *among those surveyed*? What can explain your findings?"
   ]
  },
  {
   "cell_type": "code",
   "execution_count": null,
   "metadata": {
    "#student": true
   },
   "outputs": [],
   "source": [
    "#calculate weighted average of `large` among respondents"
   ]
  },
  {
   "cell_type": "code",
   "execution_count": null,
   "metadata": {
    "#student": true
   },
   "outputs": [],
   "source": [
    "#calculate unweighted average of `large` among respondents"
   ]
  },
  {
   "cell_type": "code",
   "execution_count": null,
   "metadata": {
    "#student": true
   },
   "outputs": [],
   "source": [
    "#calculate unweighted average of `large` among those surveyed"
   ]
  },
  {
   "cell_type": "markdown",
   "metadata": {
    "#student": true
   },
   "source": [
    "*Write explanation here*"
   ]
  },
  {
   "cell_type": "markdown",
   "metadata": {
    "#student": true
   },
   "source": [
    "l. **(2 points)** Using these weights, what is the weighted average of `satisfaction` among respondents? How does this compare to your answer to part (d)?"
   ]
  },
  {
   "cell_type": "markdown",
   "metadata": {
    "#student": true
   },
   "source": [
    "*Write answer here*"
   ]
  },
  {
   "cell_type": "markdown",
   "metadata": {
    "#student": true
   },
   "source": [
    "m. **(2 points)** Do you have any remaining concerns about the survey response rates? If so, what and why?"
   ]
  },
  {
   "cell_type": "markdown",
   "metadata": {
    "#student": true
   },
   "source": [
    "*Write answer here*"
   ]
  },
  {
   "cell_type": "markdown",
   "metadata": {
    "#student": false
   },
   "source": [
    "#newpage"
   ]
  },
  {
   "cell_type": "markdown",
   "metadata": {
    "#student": true
   },
   "source": [
    "## Question 4: Hiring Salespeople"
   ]
  },
  {
   "cell_type": "markdown",
   "metadata": {
    "#student": false
   },
   "source": [
    "**(10 points)** An emerging application of machine learning in industry is 'People Analytics': using historical data to identify which job applicant to hire. \n",
    "\n",
    "<img src=\"wapo_headline.png\" alt=\"Drawing\" style=\"width: 800px;\"/>\n",
    "\n",
    "The human resources (HR) department at an IT service provider would like to use internal data on their sales employees to better screen applicants for sales positions. Historically, the HR department has preferred to hire applicants with a college degree for this position.  In internal data, current and past salespeople at the company with and without a college education are equally productive. Suppose this measure of productivity is the only relevant performance metric and that there are a significant number of salespeople both with and without a college a degree represented in the internal data. \n",
    "\n",
    "Do the data imply that the HR department should drop their preference for college-educated salespeople? Why or why not?"
   ]
  },
  {
   "cell_type": "markdown",
   "metadata": {
    "#student": true
   },
   "source": [
    "*Write answer here*"
   ]
  },
  {
   "cell_type": "markdown",
   "metadata": {
    "#student": false
   },
   "source": [
    "#newpage"
   ]
  },
  {
   "cell_type": "markdown",
   "metadata": {
    "#student": true
   },
   "source": [
    "## Submission"
   ]
  },
  {
   "cell_type": "markdown",
   "metadata": {
    "#student": false
   },
   "source": [
    "Before submitting, please click \"Kernel\" above and click \"Restart & Run All\" to ensure all of your code is working as expected. After confirming that all of your work looks and runs as you'd like it to, run the below cells to submit your work."
   ]
  },
  {
   "cell_type": "markdown",
   "metadata": {
    "#student": false
   },
   "source": [
    "Make sure that the following runs successfully for submission to OkPy."
   ]
  },
  {
   "cell_type": "code",
   "execution_count": null,
   "metadata": {
    "#student": true
   },
   "outputs": [],
   "source": [
    "from client.api.notebook import Notebook\n",
    "ok = Notebook('pset1.ok')                \n",
    "_ = ok.auth(inline=True)\n",
    "_ = ok.submit()"
   ]
  },
  {
   "cell_type": "markdown",
   "metadata": {
    "#student": false
   },
   "source": [
    "Make sure that the following runs successfully to generate a PDF to upload to Gradescope."
   ]
  },
  {
   "cell_type": "code",
   "execution_count": null,
   "metadata": {
    "#student": true
   },
   "outputs": [],
   "source": [
    "gsExport.generateSubmission(\"pset1.ipynb\")"
   ]
  },
  {
   "cell_type": "code",
   "execution_count": null,
   "metadata": {
    "#student": false
   },
   "outputs": [],
   "source": []
  }
 ],
 "metadata": {
  "checksums": [
   "a47163ba1636649a2db8f87112f06414",
   "1fc5f3d91edb25f64c6d9be40c7902e9",
   "8a5f621c1b30ef2690d4e9f99f5534cf",
   "53a4fd27a7bcb760bb0a432c53e93a66",
   "6baee540300331a755c7aa52c7c48fb2",
   "3ed1517d4b7eeef86af1ed62bd8b182d",
   "ee6a78669457d9c38b25760693c19ee8",
   "dc6cbd7363440ca8e1f1e7a052a3f3f3",
   "57818b3cb8c54f93017f179411c2ab7a",
   "dc6cbd7363440ca8e1f1e7a052a3f3f3",
   "d883179b637c0594e99f42ab78318f45",
   "dc6cbd7363440ca8e1f1e7a052a3f3f3",
   "bac5a23c44e47adff272ad67d1962837",
   "dc6cbd7363440ca8e1f1e7a052a3f3f3",
   "ca1f9770ce50f1d957d91de508fb697d",
   "dc6cbd7363440ca8e1f1e7a052a3f3f3",
   "640061103a186fd26f59746dd4d6de57",
   "c3324a6551a607d125c398d700b7b6f9",
   "e862c7bef31b3372d173474bcc475fff",
   "ee6a78669457d9c38b25760693c19ee8",
   "dc6cbd7363440ca8e1f1e7a052a3f3f3",
   "57818b3cb8c54f93017f179411c2ab7a",
   "dc6cbd7363440ca8e1f1e7a052a3f3f3",
   "d883179b637c0594e99f42ab78318f45",
   "dc6cbd7363440ca8e1f1e7a052a3f3f3",
   "bac5a23c44e47adff272ad67d1962837",
   "dc6cbd7363440ca8e1f1e7a052a3f3f3",
   "ca1f9770ce50f1d957d91de508fb697d",
   "dc6cbd7363440ca8e1f1e7a052a3f3f3",
   "640061103a186fd26f59746dd4d6de57",
   "7210b3b93b9f88cf9048c60f7f45ee44",
   "bf0e81a12bd9f1949556d90e3de16dd3",
   "1e0a739e6909488cfbd66a840288552c",
   "b29fcb4c6ed05264f92fbf2924337428",
   "10f70d03cf7c176e0110c05bbd835052",
   "57be6fc337750a6d729a8aa318653996",
   "7c05baf2e41e702fd4ed3ce56913ac9d",
   "fe9450fee0f7f87f3e287fbe79e99f43",
   "cb3466a1264a22a966d7bf0ca8e601bf",
   "f4d4341cc3aa207acf566ac574607954",
   "88b3ee7b9f455f52e7ae46d3474595a3",
   "04b59aa5976332e1eff2a766a568a405",
   "301fb2189c4a7ebd3083ddaf00747871",
   "819bf9675d363bd95c6fece15825e244",
   "c2ba7f6aabca41ee044c58c95d5a8ad7",
   "e694c52d95122def8f941839d351ce66",
   "dc6cbd7363440ca8e1f1e7a052a3f3f3",
   "0795538e0977239c268c29cbf15c9b8e",
   "9c1ba3ed77ea5b3e681728ae68b0187b",
   "dd79584fda5a19f52726e15357bd7845",
   "7ad9973643ff2d73b31a887afd13b8c7",
   "4a7d517880418ff308d65370c2218ae0",
   "dc6cbd7363440ca8e1f1e7a052a3f3f3",
   "2d9def1aa62747115db5ce00caa05374",
   "f1dccb9216566dce938bf7498f272ff8",
   "7b09049c98591e1ffe8e31f5d97aede9",
   "0df85ac794b7264986d978b40c4b40f1",
   "430e18f908515427d2e8f066038ed8c4",
   "04ab510219dedfe91f5a3487214db9b8",
   "7c51e183710a1e6edfa7f57a2b0df89d",
   "7d35c4001862abee8d0e8cdae6dd9e16",
   "97e2023973f702890095588746c45f43",
   "a7ba22f46b6c61786695580d2c112203",
   "21a3555e791b1aeda4d45ab37ecfe409",
   "dc6cbd7363440ca8e1f1e7a052a3f3f3",
   "f1d4eb450785838bbed0e7209deab4a4",
   "dc6cbd7363440ca8e1f1e7a052a3f3f3",
   "640061103a186fd26f59746dd4d6de57",
   "4e14bb1f628c2dee021da511defa9268",
   "df5d4742b7ac64e39b5818d5aa77de61",
   "dc6cbd7363440ca8e1f1e7a052a3f3f3",
   "640061103a186fd26f59746dd4d6de57",
   "facbfaf02205d9939fc553c09d23c3cf",
   "6f298b4a2c30c26695021e98ebc34711",
   "4eb6c4a90e1b1c863811e65d78ff7774",
   "d1dbc0ca49f1da92505d55a5ace42a1c",
   "6dc5cc2c0f3f7470e49d045d67804412",
   "0f14fd8b89140d2a87ec0e244ebe85fb",
   "f17769e3ddc9d918ad185c06522aa441",
   "d41d8cd98f00b204e9800998ecf8427e"
  ],
  "kernelspec": {
   "display_name": "Python 3",
   "language": "python",
   "name": "python3"
  },
  "language_info": {
   "codemirror_mode": {
    "name": "ipython",
    "version": 3
   },
   "file_extension": ".py",
   "mimetype": "text/x-python",
   "name": "python",
   "nbconvert_exporter": "python",
   "pygments_lexer": "ipython3",
   "version": "3.6.8"
  },
  "number_of_pagebreaks": 5
 },
 "nbformat": 4,
 "nbformat_minor": 2
}
