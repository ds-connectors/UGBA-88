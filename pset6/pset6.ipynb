{
 "cells": [
  {
   "cell_type": "markdown",
   "metadata": {
    "#student": false
   },
   "source": [
    "## Problem Set 6\n",
    "### UGBA 88: Data and Decisions, Fall 2019"
   ]
  },
  {
   "cell_type": "code",
   "execution_count": null,
   "metadata": {
    "#student": false
   },
   "outputs": [],
   "source": [
    "#run this cell once, then *restart kernel*\n",
    "%pip install gsExport"
   ]
  },
  {
   "cell_type": "code",
   "execution_count": 1,
   "metadata": {
    "#student": false
   },
   "outputs": [],
   "source": [
    "from datascience import *\n",
    "%matplotlib inline\n",
    "import matplotlib.pyplot as plt\n",
    "plt.style.use('fivethirtyeight')\n",
    "import numpy as np\n",
    "import gsExport"
   ]
  },
  {
   "cell_type": "markdown",
   "metadata": {
    "#student": false
   },
   "source": [
    "Deadline: This assignment is due Monday, November 4th at noon (12pm). Late work will not be accepted.\n",
    "\n",
    "You will submit your solutions using both OKpy and Gradescope. You will find detailed submission instructions ([here](https://docs.google.com/document/d/1vrg66vGtBf93xt4-LUQPpacUAQAxIJEeJ10fRsb8oUc/)). **Please do not remove or add cells and please ignore the '#newpage' cells** (these are here to facilitate Gradescope submission).\n",
    "\n",
    "You should start early so that you have time to get help if you're stuck. Post questions on [Piazza](https://piazza.com/class/jzw0f05ebpof0). Check the syllabus  for the office hours schedule. Remember that Connector Assistant office hours are for *coding questions only*."
   ]
  },
  {
   "cell_type": "markdown",
   "metadata": {
    "#student": true
   },
   "source": [
    "## Question 1: Surviving the Titanic"
   ]
  },
  {
   "cell_type": "markdown",
   "metadata": {
    "#student": false
   },
   "source": [
    "<img src=\"titanic.jpg\" alt=\"Drawing\" style=\"width: 400px;\"/>\n",
    "\n",
    "**(20 points)** On April 15th, 1912, four days after it set sail from Southampton, England, en route to New York City, the Titanic struck an iceberg in the North Atlantic. At the time, the Titanic was the largest passenger liner ever made. Of the 2,224 passengers and crew aboard, an estimated 1,502 died. The ship included some of the wealthiest people in the world as well as hundreds of European emigrants to the United States.\n",
    "\n",
    "It is well known that survival rates varied substantially by age, sex ([‘women and children first’](https://en.wikipedia.org/wiki/Women_and_children_first)), and passenger class. First and second class passengers had considerably higher survival rates than third class passengers and crew. (If you would like to investigate yourself, these data are available in the table below.)\n",
    "\n",
    "In this question, you will compare survival rates for third class passengers and crew.\n",
    "\n",
    "Run the cell below to read in the survival data on Titanic passengers and crew."
   ]
  },
  {
   "cell_type": "code",
   "execution_count": null,
   "metadata": {
    "#student": false
   },
   "outputs": [],
   "source": [
    "titanic = Table.read_table('titanic.csv')\n",
    "\n",
    "#drop first and second class passengers, keeping third class and crew members\n",
    "titanic = titanic.where('pclass', are.not_equal_to('first')).where('pclass', are.not_equal_to('second'))\n",
    "\n",
    "titanic.show(5)"
   ]
  },
  {
   "cell_type": "markdown",
   "metadata": {
    "#student": false
   },
   "source": [
    "Each row represents a passenger or crew member on the Titanic. The data include the following columns:\n",
    " * `pclass`: indicates the passenger class for passengers; set to 'crew' for crew members\n",
    " * `survived`: an indicator for whether the person survived the Titanic\n",
    " * `sex`: the passenger or crew member's sex (takes values 'male' and 'female')\n",
    " * `age`: age of the passenger (value is missing for crew members)\n",
    " * `fare`: passenger's fare (value is missing for crew members)"
   ]
  },
  {
   "cell_type": "markdown",
   "metadata": {
    "#student": true
   },
   "source": [
    "**a. (4 points)** Calculate and print separate survival rates for third class passengers and crew. Are crew substantially more likely to survive than third class passengers? [You do not need to conduct a formal hypothesis test.]"
   ]
  },
  {
   "cell_type": "code",
   "execution_count": null,
   "metadata": {
    "#student": true
   },
   "outputs": [],
   "source": [
    "#Write code here"
   ]
  },
  {
   "cell_type": "markdown",
   "metadata": {
    "#student": true
   },
   "source": [
    "*write your answer here*"
   ]
  },
  {
   "cell_type": "markdown",
   "metadata": {
    "#student": true
   },
   "source": [
    "**b. (4 points)** Calculate survival rates grouping by both `sex` and `pclass`. In other words, report **four** survival rates: female Third Class passengers, Male Third Class passengers, female Crew members, and Male Crew members. How do third class passengers and crew compare here?"
   ]
  },
  {
   "cell_type": "code",
   "execution_count": null,
   "metadata": {
    "#student": true
   },
   "outputs": [],
   "source": [
    "#write code here"
   ]
  },
  {
   "cell_type": "markdown",
   "metadata": {
    "#student": true
   },
   "source": [
    "*Write answer here*"
   ]
  },
  {
   "cell_type": "markdown",
   "metadata": {
    "#student": true
   },
   "source": [
    "**c. (5 points)** How can your findings in **part (a)** and **part (b)** be reconciled?"
   ]
  },
  {
   "cell_type": "markdown",
   "metadata": {
    "#student": true
   },
   "source": [
    "*Write answer here*"
   ]
  },
  {
   "cell_type": "markdown",
   "metadata": {
    "#student": true
   },
   "source": [
    "**d. (7 points)** Using a matching strategy to control for `sex`, compute and print the difference in survival rates for third class passengers and **matched** crew. Conditional on `sex`, were crew substantially more likely to survive than third class passengers?\n",
    "\n",
    "[To answer this, first match each third class passenger to a randomly selected crew member of the same sex. Then compute the survival rates for third class passengers and the matched crew members. Finally, calculate and print the difference in survival rates between the two groups. The exercise is similar to the matching you did in Lab 4.]"
   ]
  },
  {
   "cell_type": "code",
   "execution_count": null,
   "metadata": {
    "#student": false
   },
   "outputs": [],
   "source": [
    "#below we've created separate tables for third class passengers and crew\n",
    "\n",
    "#generate third class table\n",
    "third_class = titanic.where('pclass', 'third')\n",
    "\n",
    "#generate crew table\n",
    "crew = titanic.where('pclass', 'crew')\n",
    "#add column ids\n",
    "crew = crew.with_column('id', np.arange(crew.num_rows))\n",
    "\n",
    "crew.show(5)"
   ]
  },
  {
   "cell_type": "code",
   "execution_count": null,
   "metadata": {
    "#student": true
   },
   "outputs": [],
   "source": [
    "#define matching function here\n",
    "def match_sex_id(sex_value):\n",
    "    ..."
   ]
  },
  {
   "cell_type": "code",
   "execution_count": null,
   "metadata": {
    "#student": true
   },
   "outputs": [],
   "source": [
    "#write remaining code here\n",
    "#remember to print differences in survival rates"
   ]
  },
  {
   "cell_type": "markdown",
   "metadata": {
    "#student": true
   },
   "source": [
    "*Write answer here*"
   ]
  },
  {
   "cell_type": "markdown",
   "metadata": {
    "#student": false
   },
   "source": [
    "#newpage"
   ]
  },
  {
   "cell_type": "markdown",
   "metadata": {
    "#student": true
   },
   "source": [
    "## Question 2: Revisiting the Oregon Health Study"
   ]
  },
  {
   "cell_type": "markdown",
   "metadata": {
    "#student": false
   },
   "source": [
    "**(30 points)** This question revisits the Oregon Health Study analyzed in Problem Set 5 and discussed in detail in *Mastering Metrics*.\n",
    "\n",
    "In the Oregon Health Study, when individuals signed up to participate in the lottery they could also list additional individuals in their household to participate in the lottery (e.g. their spouse). Although the state randomly selected individuals from the list as lottery winners, the *entire household* of any selected individual was considered a lottery winner and eligible to apply for insurance. This adds a wrinkle to our experiment analysis--now participants from larger households are more likely to win the lottery than participants in smaller households. [For this reason, in PS5 the data provided were restricted to participants that did not sign up any household members.]\n",
    "\n",
    "In this question, you will re-analyze the Oregon Health Study, accounting for this fact."
   ]
  },
  {
   "cell_type": "markdown",
   "metadata": {
    "#student": true
   },
   "source": [
    "**a. (3 points)** Why does the fact that the lottery winners are disproportionately drawn from larger households complicate the experiment analysis? Why can't we simply compare lottery winners and lottery losers to estimate the average causal effect of winning the lottery on, say, health?"
   ]
  },
  {
   "cell_type": "markdown",
   "metadata": {
    "#student": true
   },
   "source": [
    "*Write answer here*"
   ]
  },
  {
   "cell_type": "markdown",
   "metadata": {
    "#student": false
   },
   "source": [
    "Run the cell below to read in the Oregon Health Study data you will use for the remainder of this problem."
   ]
  },
  {
   "cell_type": "code",
   "execution_count": null,
   "metadata": {
    "#student": false
   },
   "outputs": [],
   "source": [
    "#run this cell to read in the data\n",
    "ohs = Table.read_table(\"ohs_hh_sample.csv\")\n",
    "ohs.show(5)"
   ]
  },
  {
   "cell_type": "markdown",
   "metadata": {
    "#student": false
   },
   "source": [
    "Here is a description of what each column represents:\n",
    "\n",
    "* `win_lottery`: indicator for whether participant won lottery\n",
    "\n",
    "* `any_medicaid`: indicator whether a participant is with or without Medicaid coverage\n",
    "\n",
    "* `household_size`: whether participant signed up 1 (just self), 2, or 3 household members for lottery\n",
    "\n",
    "* `cost_any_owe`: indicator for whether participant owes any money for medical expenses 12 months after lottery\n",
    "\n",
    "* `female`: indicator for whether participant is female\n",
    "\n",
    "* `age`: age of participant that signed up for lottery\n",
    "\n",
    "* `english`: indicator for whether the participant requested English-language materials for lottery application (proxy for English as preferred language)\n",
    "\n",
    "Run the cell below to conduct a **balance test**: a comparison of baseline characteristics for lottery winners and lottery losers."
   ]
  },
  {
   "cell_type": "code",
   "execution_count": null,
   "metadata": {
    "#student": true
   },
   "outputs": [],
   "source": [
    "#balance check: compare baseline characteristics\n",
    "ohs.select('win_lottery', 'household_size', 'english',  'female', 'age').group('win_lottery', np.mean)"
   ]
  },
  {
   "cell_type": "markdown",
   "metadata": {
    "#student": false
   },
   "source": [
    "**b. (5 points)** We can see that lottery winners have signed up more household members, are less likely to speak English as their preferred language, and are less likely to be female. There are differences, though they may not seem large in magnitude. Conduct a permutation test for whether differences in proportion female (the average of `female`) are statistically significant, and print the p-value. At the **10%** significance level, do you reject the null hypothesis that there is no difference in proportion female between groups?\n",
    "\n",
    "Below we have provided the useful function `permuted_sample_average_difference` defined in Data 8."
   ]
  },
  {
   "cell_type": "code",
   "execution_count": null,
   "metadata": {
    "#student": false
   },
   "outputs": [],
   "source": [
    "#Run this cell to define the function permuted_sample_average_difference \n",
    "def permuted_sample_average_difference(table, label, group_label, repetitions):\n",
    "\n",
    "    tbl = table.select(group_label, label)\n",
    "\n",
    "    differences = make_array()\n",
    "    for i in np.arange(repetitions):\n",
    "        shuffled = tbl.sample(with_replacement = False).column(1)\n",
    "        original_and_shuffled = tbl.with_column('Shuffled Data', shuffled)\n",
    "\n",
    "        shuffled_means = original_and_shuffled.group(group_label, np.average).column(2)\n",
    "        simulated_difference = shuffled_means.item(1) - shuffled_means.item(0)\n",
    "\n",
    "        differences = np.append(differences, simulated_difference)\n",
    "\n",
    "    return differences"
   ]
  },
  {
   "cell_type": "code",
   "execution_count": null,
   "metadata": {
    "#student": true
   },
   "outputs": [],
   "source": [
    "#write code to conduct permutation test\n",
    "\n",
    "#print p-value\n"
   ]
  },
  {
   "cell_type": "markdown",
   "metadata": {
    "#student": true
   },
   "source": [
    "*Do you reject the null hypothesis? Write your answer here.*"
   ]
  },
  {
   "cell_type": "markdown",
   "metadata": {
    "#student": false
   },
   "source": [
    "The unadjusted data are imbalanced. However, if we condition on `household_size`, each participant has the same chance of winning the lottery. This is an example where the **Selection on Observables** assumption is clearly satisfied.\n",
    "\n",
    "Below, you will control for `household_size` using matching and examine whether this corrects the imbalance documented above."
   ]
  },
  {
   "cell_type": "markdown",
   "metadata": {
    "#student": true
   },
   "source": [
    "**b. (5 points)** Match each lottery winner to a randomly selected lottery loser with the same value of `household_size`. [Your matching code may take a while to run. If your notebook appears to be hung up, try restarting your kernel.]"
   ]
  },
  {
   "cell_type": "code",
   "execution_count": null,
   "metadata": {
    "#student": false
   },
   "outputs": [],
   "source": [
    "#below we've created separate tables for lottery winners and losers\n",
    "\n",
    "#generate third class table\n",
    "winners = ohs.where('win_lottery', 1)\n",
    "\n",
    "losers = ohs.where('win_lottery', 0)\n",
    "losers = losers.with_column('id', np.arange(losers.num_rows))\n",
    "\n",
    "losers.show(5)"
   ]
  },
  {
   "cell_type": "code",
   "execution_count": null,
   "metadata": {
    "#student": true
   },
   "outputs": [],
   "source": [
    "#write your code here\n",
    "def match_size_id(size_value):\n",
    "    ..."
   ]
  },
  {
   "cell_type": "code",
   "execution_count": null,
   "metadata": {
    "#student": true
   },
   "outputs": [],
   "source": [
    "#use .apply get array of matched noncontacted voters\n",
    "match_indices =...\n",
    "\n",
    "#use .take and `match_indices` to get a table of matched noncontacted voters\n",
    "losers_size_matches = ...\n",
    "losers_size_matches.show(5)"
   ]
  },
  {
   "cell_type": "markdown",
   "metadata": {
    "#student": true
   },
   "source": [
    "**c. (4 points)** As above, check balance between lottery winners and matched lottery losers by comparing average values of `household_size`, `english`, `female`, and `age` for the two groups. Be sure to print the results."
   ]
  },
  {
   "cell_type": "code",
   "execution_count": null,
   "metadata": {
    "#student": true
   },
   "outputs": [],
   "source": [
    "#Write code for lottery losers here"
   ]
  },
  {
   "cell_type": "code",
   "execution_count": null,
   "metadata": {
    "#student": true
   },
   "outputs": [],
   "source": [
    "#write code for lottery winners here"
   ]
  },
  {
   "cell_type": "markdown",
   "metadata": {
    "#student": true
   },
   "source": [
    "**d. (5 points)** Test whether the differences in proportion female that you measure are statistically significant. Has matching corrected the imbalance?"
   ]
  },
  {
   "cell_type": "code",
   "execution_count": null,
   "metadata": {
    "#student": true
   },
   "outputs": [],
   "source": [
    "#use the code below to combine your two tables (winners and losers_size_matches) into one table\n",
    "\n",
    "#create combined array for each column\n",
    "win_lottery = np.concatenate((winners.column('win_lottery'), losers_size_matches.column('win_lottery')))\n",
    "household_size = np.concatenate((winners.column('household_size'), losers_size_matches.column('household_size')))\n",
    "english = np.concatenate((winners.column('english'), losers_size_matches.column('english')))\n",
    "female = np.concatenate((winners.column('female'), losers_size_matches.column('female')))\n",
    "age = np.concatenate((winners.column('age'), losers_size_matches.column('age')))\n",
    "cost_any_owe = np.concatenate((winners.column('cost_any_owe'), losers_size_matches.column('cost_any_owe')))\n",
    "any_medicaid = np.concatenate((winners.column('any_medicaid'), losers_size_matches.column('any_medicaid')))\n",
    "\n",
    "#combine arrays into table\n",
    "combined = Table().with_columns('win_lottery', win_lottery, 'household_size', household_size, 'english', english, 'female', female, 'age', age, 'cost_any_owe', cost_any_owe, 'any_medicaid', any_medicaid)\n",
    "combined"
   ]
  },
  {
   "cell_type": "code",
   "execution_count": null,
   "metadata": {
    "#student": true
   },
   "outputs": [],
   "source": [
    "#write your code testing for statistical significance here"
   ]
  },
  {
   "cell_type": "markdown",
   "metadata": {
    "#student": true
   },
   "source": [
    "*Write your answer here*"
   ]
  },
  {
   "cell_type": "markdown",
   "metadata": {
    "#student": true
   },
   "source": [
    "**e. (5 points)** Estimate the average causal effect of winning the lottery on `cost_any_owe` (i.e., the reduced form or Intent to Treat) and conduct a hypothesis test for whether your estimate is statistically significant. [The null hypothesis is that the treatment effect is zero for each participant.] Be sure to print the results."
   ]
  },
  {
   "cell_type": "code",
   "execution_count": null,
   "metadata": {
    "#student": true
   },
   "outputs": [],
   "source": [
    "#Write your code here"
   ]
  },
  {
   "cell_type": "markdown",
   "metadata": {
    "#student": true
   },
   "source": [
    "**f. (3 points)** Describe your findings in a complete sentence. Be sure to reference the *meaning* of the variables you're examining rather than just the column names (e.g. don't say '`cost_any_owe` decreases by ...'; instead say what that means in plain English)."
   ]
  },
  {
   "cell_type": "markdown",
   "metadata": {
    "#student": true
   },
   "source": [
    "*Write your answer here*"
   ]
  },
  {
   "cell_type": "markdown",
   "metadata": {
    "#student": false
   },
   "source": [
    "## Submission"
   ]
  },
  {
   "cell_type": "markdown",
   "metadata": {
    "#student": false
   },
   "source": [
    "Before submitting, please click \"Kernel\" above and click \"Restart & Run All\" to ensure all of your code is working as expected. This is important. Code that does not run cannot be graded. After confirming that all of your work looks and runs as you'd like it to, run **BOTH** of the below cells to submit your work.\n",
    "\n",
    "Make sure that the following runs successfully for submission to OkPy."
   ]
  },
  {
   "cell_type": "code",
   "execution_count": null,
   "metadata": {
    "#student": false
   },
   "outputs": [],
   "source": [
    "from client.api.notebook import Notebook\n",
    "ok = Notebook('pset6.ok')                \n",
    "_ = ok.auth(inline=True)\n",
    "_ = ok.submit()"
   ]
  },
  {
   "cell_type": "markdown",
   "metadata": {
    "#student": false
   },
   "source": [
    "Then, make sure that the following runs successfully to generate a PDF to upload to Gradescope. **Do not upload any other PDF to Gradescope other than the one generated by the below code.** If you have difficulty downloading the PDF, please review the submission instructions ([here](https://docs.google.com/document/d/1vrg66vGtBf93xt4-LUQPpacUAQAxIJEeJ10fRsb8oUc/)) or see Piazza for troubleshooting steps.\n"
   ]
  },
  {
   "cell_type": "code",
   "execution_count": null,
   "metadata": {
    "#student": false
   },
   "outputs": [],
   "source": [
    "gsExport.generateSubmission('pset6.ipynb')"
   ]
  }
 ],
 "metadata": {
  "checksums": [
   "c314b7eaeb5748716dea3b8d2334e88f",
   "5ff5769315835a43435a4fb4aecedfb4",
   "b3b0a6bec3590179f09133c5a9414f68",
   "25f26ac2bd60cc9a423daf8b73cbb7c9",
   "24ad033599259801c7079a7b5a0ba73b",
   "656a00dca083edaa208d758e07c2728d",
   "263eeb21e78831fd0f9928b32bbdf00a",
   "7d3a367b380644655692e3805d0ff857",
   "fc6c9de830d572a435ceb064e15dbe38",
   "92e602fede166dca65dd8b618a07fbff",
   "bf101985f1cbe4249d7d432dc6917845",
   "ebdb1f2979ac7d7201d66bb889f69986",
   "b34df92515c8d9f037de2d2ed6e8eb41",
   "dc6cbd7363440ca8e1f1e7a052a3f3f3",
   "12fe6fc97ca8992f88b4a6d8d856d73e",
   "dc6cbd7363440ca8e1f1e7a052a3f3f3",
   "52a8b8cb9e12f6376572af8e40fc618e",
   "0351044a8b50928c1a1a83ebb9daefee",
   "3158b143e153d4cc6392c6f9c433119b",
   "55f2ed31d7e7e9ce7b9074c68367f4d4",
   "dc6cbd7363440ca8e1f1e7a052a3f3f3",
   "640061103a186fd26f59746dd4d6de57",
   "3689a47b48e166e366e29d617d9ccad2",
   "b4d32bcf58d3726678ccdc988aaf39d9",
   "9cbc7a5ab9b6ddcfb68d943af6809a3a",
   "dc6cbd7363440ca8e1f1e7a052a3f3f3",
   "bda82dbb74a268f11a604a368f568505",
   "ce65adcdf895072ac23b9db7b649ad36",
   "b188a27004cbc5cfe458e8fdb2aaab5c",
   "eb0a9503e5492f7ad1f340d672174754",
   "84d3879a48c118a46559f23dcc645022",
   "c9125a8e1871fc26b8a0db85996a0fa6",
   "3376368e80ae99cb2c8253210121dbf0",
   "69b6f26028c5f18e1f9a10fbe61f3c6f",
   "40afaac70e5901aadfbf29768d98ffcb",
   "53944be782a45bf908c75fe0e18e4777",
   "5646c9c30dc7fb1f043d0df7c949139c",
   "f8afbf87e2bbaab97192c466fff7436d",
   "2e75e83c3added098c90c4bdbbf5e5f4",
   "5e529901c5ba66cafbf8c35c0c2c9a9f",
   "07a7625b26d972be2468601b3a993152",
   "9af0a2393282e14b52cbf9850433f71c",
   "d5189d0e6573941f10266921302eb8bd",
   "f2f12a91d086dad9438e98d62902c4d4",
   "33ae97543d5ce311e947facda6d687c9",
   "0146536757eb097d12e4b27748df4e3b",
   "7444939e2966d13833e005f4628f893e",
   "f9854af26cdeb9bb4914b5515deec9a8",
   "0df74cd3c31b5ce0d5fb3d5a93ee97c8",
   "0146536757eb097d12e4b27748df4e3b",
   "facbfaf02205d9939fc553c09d23c3cf",
   "a7e5c228c77f19cc11c5929baeeb3657",
   "0668b88362e11e54fbf555ae4d6f0a12",
   "32c94881a4d99158787729ded0398f7c",
   "20ceaee0b74d9d0a7b7071c24bfb28a1",
   "630d5c1461ffa13b870a0cd4816ca08f",
   "d41d8cd98f00b204e9800998ecf8427e"
  ],
  "kernelspec": {
   "display_name": "Python 3",
   "language": "python",
   "name": "python3"
  },
  "language_info": {
   "codemirror_mode": {
    "name": "ipython",
    "version": 3
   },
   "file_extension": ".py",
   "mimetype": "text/x-python",
   "name": "python",
   "nbconvert_exporter": "python",
   "pygments_lexer": "ipython3",
   "version": "3.6.8"
  },
  "number_of_pagebreaks": 2
 },
 "nbformat": 4,
 "nbformat_minor": 2
}
