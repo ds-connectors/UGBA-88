{
 "cells": [
  {
   "cell_type": "markdown",
   "metadata": {
    "#student": false
   },
   "source": [
    "## Problem Set 2\n",
    "### UGBA 88: Data and Decisions, Fall 2019"
   ]
  },
  {
   "cell_type": "code",
   "execution_count": null,
   "metadata": {
    "#student": false
   },
   "outputs": [],
   "source": [
    "#run this cell once, then *restart kernel*\n",
    "%pip install gsExport"
   ]
  },
  {
   "cell_type": "code",
   "execution_count": null,
   "metadata": {
    "#student": false
   },
   "outputs": [],
   "source": [
    "from datascience import *\n",
    "import matplotlib\n",
    "import gsExport\n",
    "import numpy as np\n",
    "import pandas as pd\n",
    "matplotlib.use('Agg', warn=False)\n",
    "%matplotlib inline"
   ]
  },
  {
   "cell_type": "markdown",
   "metadata": {
    "#student": false
   },
   "source": [
    "Deadline: This assignment is due **Monday, September 30th at noon (12pm)**. Late work will not be accepted.\n",
    "\n",
    "You will submit your solutions using both OKpy and Gradescope. You will find detailed submission instructions ([here](https://docs.google.com/document/d/1vrg66vGtBf93xt4-LUQPpacUAQAxIJEeJ10fRsb8oUc/)). **Please do not remove or add cells and please ignore the '#newpage' cells** (these are here to facilitate Gradescope submission).\n",
    "\n",
    "You should start early so that you have time to get help if you're stuck. Post questions on [Piazza](https://piazza.com/class/jzw0f05ebpof0). Check the syllabus  for the office hours schedule. Remember that Connector Assistant office hours are for *coding questions only*."
   ]
  },
  {
   "cell_type": "markdown",
   "metadata": {
    "#student": true
   },
   "source": [
    "## Question 1"
   ]
  },
  {
   "cell_type": "markdown",
   "metadata": {
    "#student": false
   },
   "source": [
    "**(20 points)** The dataset you will analyze in this exercise is a random sample of all recent roundtrip airline tickets purhased for travel between New York’s John F. Kennedy Airport (JFK) and Los Angeles Airport (LAX). First-class fares have been excluded. For each ticket the data includes the following variables:\n",
    "\n",
    "1. `carrier`: the airline\n",
    "2. `rtrip_fare`: round trip fare\n",
    "3. `advance`: number of days in advance of flight each ticket was purchased\n",
    "4. `busclass`: indicator for business class ('1' if business class, '0' if not)\n",
    "5. `nonrefundable`: indicator for whether a ticket purchased was a nonrefundable ticket ('1' if nonrefundable, '0' if not)\n",
    "6. `satstayover`: indicator for whether a roundtrip ticket includes a Saturday stayover in the destination location ('1' if Saturday stayover, '0' if not)"
   ]
  },
  {
   "cell_type": "code",
   "execution_count": null,
   "metadata": {
    "#student": false
   },
   "outputs": [],
   "source": [
    "#read in the ticket data\n",
    "ticket_data = Table.read_table('ticket_prices.csv')\n",
    "ticket_data.show(5)"
   ]
  },
  {
   "cell_type": "markdown",
   "metadata": {
    "#student": true
   },
   "source": [
    "**a. (1 point)** How many airlines are represented in these data?"
   ]
  },
  {
   "cell_type": "code",
   "execution_count": null,
   "metadata": {
    "#student": true
   },
   "outputs": [],
   "source": [
    "#Write code here"
   ]
  },
  {
   "cell_type": "markdown",
   "metadata": {
    "#student": true
   },
   "source": [
    "*Write answer here*"
   ]
  },
  {
   "cell_type": "markdown",
   "metadata": {
    "#student": true
   },
   "source": [
    "**b. (2 points)** Compute the mean and median round trip fare."
   ]
  },
  {
   "cell_type": "code",
   "execution_count": null,
   "metadata": {
    "#student": true
   },
   "outputs": [],
   "source": [
    "#Write code here"
   ]
  },
  {
   "cell_type": "markdown",
   "metadata": {
    "#student": true
   },
   "source": [
    "**c. (3 points)** Create a histogram of trip fare. Why is there so much blank space on the right side of the histogram?"
   ]
  },
  {
   "cell_type": "code",
   "execution_count": null,
   "metadata": {
    "#student": true
   },
   "outputs": [],
   "source": [
    "#Write code here"
   ]
  },
  {
   "cell_type": "markdown",
   "metadata": {
    "#student": true
   },
   "source": [
    "*Write answer here*"
   ]
  },
  {
   "cell_type": "markdown",
   "metadata": {
    "#student": true
   },
   "source": [
    "**d. (2 points)** Create a histogram using only tickets under $1000."
   ]
  },
  {
   "cell_type": "code",
   "execution_count": null,
   "metadata": {
    "#student": true
   },
   "outputs": [],
   "source": [
    "#write code here"
   ]
  },
  {
   "cell_type": "markdown",
   "metadata": {
    "#student": false
   },
   "source": [
    "For the remaining questions, use the original `ticket_data` table (and do not limit to tickets under $1000)."
   ]
  },
  {
   "cell_type": "markdown",
   "metadata": {
    "#student": true
   },
   "source": [
    "**e. (2 points)** Is one of the airlines much cheaper on average than the other?"
   ]
  },
  {
   "cell_type": "code",
   "execution_count": null,
   "metadata": {
    "#student": true
   },
   "outputs": [],
   "source": [
    "#write code here"
   ]
  },
  {
   "cell_type": "markdown",
   "metadata": {
    "#student": true
   },
   "source": [
    "*Write answer here*"
   ]
  },
  {
   "cell_type": "markdown",
   "metadata": {
    "#student": true
   },
   "source": [
    "**f. (3 points)** Measure the difference in average price between tickets with `satstayover` == 1 and `satstayover` == 0. Why do you think this difference in average price exists?"
   ]
  },
  {
   "cell_type": "code",
   "execution_count": null,
   "metadata": {
    "#student": true
   },
   "outputs": [],
   "source": [
    "#write code here"
   ]
  },
  {
   "cell_type": "markdown",
   "metadata": {
    "#student": true
   },
   "source": [
    "*Write answer here*"
   ]
  },
  {
   "cell_type": "markdown",
   "metadata": {
    "#student": false
   },
   "source": [
    "In the next three exercises we will document the relationship between `advance` and `rtrip_fare`."
   ]
  },
  {
   "cell_type": "markdown",
   "metadata": {
    "#student": true
   },
   "source": [
    "**g. (2 points)** Create a scatter plot with `rtrip_fare` on the vertical axis and `advance` on the horizontal axis."
   ]
  },
  {
   "cell_type": "code",
   "execution_count": null,
   "metadata": {
    "#student": true
   },
   "outputs": [],
   "source": [
    "#write code here"
   ]
  },
  {
   "cell_type": "markdown",
   "metadata": {
    "#student": true
   },
   "source": [
    "**h. (4 points)** Next, you will use what’s called a \"bin scatter” plot to make this relationship even clearer. First, we have grouped tickets into ventiles (like quartiles, except 20 groups instead of 4) based on their `advance` value for you. Calculate the average fare and average advance days by ventile. Finally, scatter plot those averages against each other. There should be 20 observations in total."
   ]
  },
  {
   "cell_type": "code",
   "execution_count": null,
   "metadata": {
    "#student": true
   },
   "outputs": [],
   "source": [
    "#write code here\n",
    "#the code below creates a column that maps each advance value to a ventile\n",
    "price_bins = pd.qcut(ticket_data.column('advance'), 20, labels=False)"
   ]
  },
  {
   "cell_type": "markdown",
   "metadata": {
    "#student": true
   },
   "source": [
    "**i. (1 point)** What do you notice about this relationship?"
   ]
  },
  {
   "cell_type": "markdown",
   "metadata": {
    "#student": true
   },
   "source": [
    "*Write answer here*"
   ]
  },
  {
   "cell_type": "markdown",
   "metadata": {
    "#student": false
   },
   "source": [
    "#newpage"
   ]
  },
  {
   "cell_type": "markdown",
   "metadata": {
    "#student": true
   },
   "source": [
    "## Question 2"
   ]
  },
  {
   "cell_type": "markdown",
   "metadata": {
    "#student": false
   },
   "source": [
    "<img src=\"wms_logo.png\" alt=\"Drawing\" style=\"width: 300px;\"/>\n",
    "\n",
    "**(20 points)** In this question we analyze the World Management Survey, a survey of management practices at firms across the world. There are dramatic differences in productivity across countries and across companies *within* countries. The quality of management is thought to be one important driver. But historically, we have not had good measures of management quality. The World Management Survey helps to fill this void.\n",
    "\n",
    "The survey is designed in collaboration with McKinsey, a leading management consulting firm. In the survey, firms are evaluated based on 18 basic management practices. Each firm is scored on how their practices compare to what management consulting firms commonly understand as \"best practices.\" The survey focuses on measuring management practices along three operations-focused dimensions: (1) performance monitoring, (2) target setting, and (3) incentives/people management.\n",
    "\n",
    "First, **monitoring**: how well do organizations monitor what goes on inside the firm, and use this information for continuous improvement? \n",
    "\n",
    "Second, **targets**: do organizations set the right targets, track the right outcomes, and take appropriate action if the two are inconsistent? \n",
    "\n",
    "Third, **incentives**: are organizations promoting and rewarding employees based on performance, prioritizing hiring, and trying to keep their best employees?\n",
    "\n",
    "The researchers use an open-ended telephone survey to assess firms on these dimensions. The process is described in more detail in this excerpt from a [background paper](https://pubs.aeaweb.org/doi/pdfplus/10.1257/jep.24.1.203) on the survey:\n",
    "\n",
    "*To [score firms], we used open questions in the survey. For example, on the first monitoring dimension, we start by asking the open question “tell me how you monitor your production process,” rather than closed questions such as “do you monitor your production daily [yes/no].” We continue with open questions focusing on actual practices and examples until the interviewer can make an accurate assessment of the firm’s practices. For example, the second question on that monitoring dimension is “What kinds of measures would you use to track performance?” and the third is “If I walked round your factory what could I tell about how each person was performing?” The combined responses to this dimension are scored against a grid which goes from 1 (out of 5), which is defined as “**Measures tracked do not indicate directly if overall business objectives are being met. Tracking is an ad-hoc process (certain processes aren’t tracked at all)**,” up to 5 which is defined as “**Performance is continuously tracked and communicated, both formally and informally, to all staff using a range of visual management tools.**”*\n",
    "\n",
    "In this problem you will analyze data from an extract of the World Management Survey. The first extract includes data from 9,207 manufacturing firms located in 20 countries. The second extract includes data from 2,926 manufacturing firms located in 18 countries.\n",
    "\n",
    "Run the cell below to read in the first data extract."
   ]
  },
  {
   "cell_type": "code",
   "execution_count": null,
   "metadata": {
    "#student": false
   },
   "outputs": [],
   "source": [
    "#read in the WMS data\n",
    "wms_pt1_data = Table.read_table('wms_pt1.csv')\n",
    "wms_pt1_data.show(5)"
   ]
  },
  {
   "cell_type": "markdown",
   "metadata": {
    "#student": false
   },
   "source": [
    "Here's a description of what each column represents:\n",
    "\n",
    "- `firm_id`: id for each firm\n",
    "\n",
    "- `management`: a firm's overall management score, average across all questions\n",
    "    \n",
    "- `monitor`: a firm's average score for all questions related to monitoring\n",
    "    \n",
    "- `target`: a firm's average score for all questions relate to target setting and tracking\n",
    "    \n",
    "- `people`: a firm's average score for all questions related to incentivizing employees\n",
    "    \n",
    "- `country`: the firm a country is located in\n",
    "\n",
    "- `emerging`: an indicator for whether the firm is located in an emerging market (in these data: Brazil, China, and India)"
   ]
  },
  {
   "cell_type": "markdown",
   "metadata": {
    "#student": true
   },
   "source": [
    "**a. (1 point)** What countries are represented in the data?"
   ]
  },
  {
   "cell_type": "code",
   "execution_count": null,
   "metadata": {
    "#student": true
   },
   "outputs": [],
   "source": [
    "#write code here"
   ]
  },
  {
   "cell_type": "markdown",
   "metadata": {
    "#student": true
   },
   "source": [
    "**b. (2 points)** The total `management` score is an average of three dimensions. As measured in the survey, how does variation (spread) in quality compare across dimensions? Does one dimension vary more or less than the others?"
   ]
  },
  {
   "cell_type": "code",
   "execution_count": null,
   "metadata": {
    "#student": true
   },
   "outputs": [],
   "source": [
    "#Write code here"
   ]
  },
  {
   "cell_type": "markdown",
   "metadata": {
    "#student": true
   },
   "source": [
    "*Write answer here*"
   ]
  },
  {
   "cell_type": "markdown",
   "metadata": {
    "#student": true
   },
   "source": [
    "**c. (4 points)** Next, you will look at how `management` varies across countries. Create a bar plot of average management score by country, ordered by average management score. Describe your findings."
   ]
  },
  {
   "cell_type": "code",
   "execution_count": null,
   "metadata": {
    "#student": true
   },
   "outputs": [],
   "source": [
    "#Write code here"
   ]
  },
  {
   "cell_type": "markdown",
   "metadata": {
    "#student": true
   },
   "source": [
    "*Write answer here: what do you find?*"
   ]
  },
  {
   "cell_type": "markdown",
   "metadata": {
    "#student": true
   },
   "source": [
    "**d. (4 points)** Plot histograms of `management` separately for the United States and for emerging markets. *Be sure that the two histograms have the same bin endpoints to facilitate comparison.* How do the two distributions differ?"
   ]
  },
  {
   "cell_type": "code",
   "execution_count": null,
   "metadata": {
    "#student": true
   },
   "outputs": [],
   "source": [
    "#Write code for first histogram here"
   ]
  },
  {
   "cell_type": "code",
   "execution_count": null,
   "metadata": {
    "#student": true
   },
   "outputs": [],
   "source": [
    "#Write code for second histogram here"
   ]
  },
  {
   "cell_type": "markdown",
   "metadata": {
    "#student": true
   },
   "source": [
    "*Write answer here: how do the distributions differ?*"
   ]
  },
  {
   "cell_type": "markdown",
   "metadata": {
    "#student": false
   },
   "source": [
    "The survey methodology is backed by McKinsey's understanding of what constitutes 'best practices' in management. These are agreed upon best practices because experts believe these practices cause better firm performance. In the last part of this problem, we will assess this premise by documenting the relationship between `management` and firm performance using available data.\n",
    "\n",
    "For the second part of this problem, we will use a second (smaller) extract of WMS data that contains information on each surveyed firm's number of employees and annual sales. We can use these two columns to construct a measure of *productivity*: sales per employee."
   ]
  },
  {
   "cell_type": "code",
   "execution_count": null,
   "metadata": {
    "#student": true
   },
   "outputs": [],
   "source": [
    "#read in the WMS data\n",
    "wms_pt2_data = Table.read_table('wms_pt2.csv')\n",
    "wms_pt2_data.show(5)"
   ]
  },
  {
   "cell_type": "markdown",
   "metadata": {
    "#student": false
   },
   "source": [
    "This extract features two additional columns, `sales` and `employment`. They are defined as follows:\n",
    "- `sales`: sales in US dollars ($1000s)\n",
    "- `employment`: total employees at the firm"
   ]
  },
  {
   "cell_type": "markdown",
   "metadata": {
    "#student": true
   },
   "source": [
    "**e. (2 points)** Construct a column for sales per employee and add that column to our original table, `wms_pt2_data`."
   ]
  },
  {
   "cell_type": "code",
   "execution_count": null,
   "metadata": {
    "#student": true
   },
   "outputs": [],
   "source": [
    "#write code here"
   ]
  },
  {
   "cell_type": "markdown",
   "metadata": {
    "#student": true
   },
   "source": [
    "**f. (4 points)** Plot your sales per employee measure against `management` using a bin scatter plot (see Q1.h for more details)."
   ]
  },
  {
   "cell_type": "code",
   "execution_count": null,
   "metadata": {
    "#student": true
   },
   "outputs": [],
   "source": [
    "#write code here"
   ]
  },
  {
   "cell_type": "markdown",
   "metadata": {
    "#student": true
   },
   "source": [
    "**g. (3 points)** Describe the relationship you observe. Does this support the claim that management is an important *cause* of firm productivity? Can you think of an alternative explanation?"
   ]
  },
  {
   "cell_type": "markdown",
   "metadata": {
    "#student": true
   },
   "source": [
    "*Write answer here*"
   ]
  },
  {
   "cell_type": "markdown",
   "metadata": {
    "#student": false
   },
   "source": [
    "## Submission"
   ]
  },
  {
   "cell_type": "markdown",
   "metadata": {
    "#student": false
   },
   "source": [
    "Before submitting, please click \"Kernel\" above and click \"Restart & Run All\" to ensure all of your code is working as expected. After confirming that all of your work looks and runs as you'd like it to, run the below cells to submit your work.\n",
    "Make sure that the following runs successfully for submission to OkPy."
   ]
  },
  {
   "cell_type": "code",
   "execution_count": null,
   "metadata": {
    "#student": false
   },
   "outputs": [],
   "source": [
    "from client.api.notebook import Notebook\n",
    "ok = Notebook('pset2.ok')                \n",
    "_ = ok.auth(inline=True)\n",
    "_ = ok.submit()"
   ]
  },
  {
   "cell_type": "markdown",
   "metadata": {
    "#student": false
   },
   "source": [
    "Make sure that the following runs successfully to generate a PDF to upload to Gradescope."
   ]
  },
  {
   "cell_type": "code",
   "execution_count": null,
   "metadata": {
    "#student": false
   },
   "outputs": [],
   "source": [
    "gsExport.generateSubmission('pset2.ipynb')"
   ]
  }
 ],
 "metadata": {
  "checksums": [
   "dd7178003491586cd7f2365a2ddc91c2",
   "5ff5769315835a43435a4fb4aecedfb4",
   "470c0f1f1d69066afbb23b78349f68dd",
   "7da366f017e679c67ffef3c9950ba47c",
   "09f33e64bb6834e49036c1738d3d864b",
   "6c28761ad5db5a6d3c666d9680f665fa",
   "a3262d7a5c7014ac767a1391f29cd3bd",
   "d445feb51c70d8e3ef5907c947b31293",
   "92e602fede166dca65dd8b618a07fbff",
   "dc6cbd7363440ca8e1f1e7a052a3f3f3",
   "dade6d0011530af8b2bd12ddbe45c265",
   "92e602fede166dca65dd8b618a07fbff",
   "e2d07d612b80413c3c18b23ce8c36b5a",
   "92e602fede166dca65dd8b618a07fbff",
   "dc6cbd7363440ca8e1f1e7a052a3f3f3",
   "d4555df7761056e8eefc3ac0fb426f56",
   "b34df92515c8d9f037de2d2ed6e8eb41",
   "0c58cf7fd745f27d1b04e897f176d7ae",
   "d2ccd98a1ab342c8305afbbc647c7a56",
   "b34df92515c8d9f037de2d2ed6e8eb41",
   "dc6cbd7363440ca8e1f1e7a052a3f3f3",
   "20137d015baa26912fec8112590fa36c",
   "b34df92515c8d9f037de2d2ed6e8eb41",
   "dc6cbd7363440ca8e1f1e7a052a3f3f3",
   "f770bf9c91f2e085ab187dc3a325180b",
   "625eb2cd5142407315d8e13de201c4e0",
   "b34df92515c8d9f037de2d2ed6e8eb41",
   "b1b6ce1df40ec5ab897e2a825df22e48",
   "f5ab6071bf0fbae5d346619d60fee36a",
   "e71ae55f56370b61dc223bf2720be61c",
   "dc6cbd7363440ca8e1f1e7a052a3f3f3",
   "640061103a186fd26f59746dd4d6de57",
   "49a874f1a0c23c86d04149c27e5fdc24",
   "316eb5cdab535e1fe73a7673656e2edc",
   "cd3ceabffba0124ec0fb1fec18c4b1f8",
   "24b3ac19dcd989dc4ac077e0e21790a1",
   "fb06b8196e713399485fbf57dc665ee3",
   "b34df92515c8d9f037de2d2ed6e8eb41",
   "016d57a407f5990918161cfb3e47bd5c",
   "92e602fede166dca65dd8b618a07fbff",
   "dc6cbd7363440ca8e1f1e7a052a3f3f3",
   "2d6191102e9e0afe9530ee0f11505def",
   "92e602fede166dca65dd8b618a07fbff",
   "f1f2d514b0d740c68b811386fa542bc3",
   "23f7ef39e0e5b2a86d05007bc968aea6",
   "a011c6043dd35c861265137a3b08715a",
   "27f7affbb505610b2377187969d1ffa8",
   "f29e9404160db27ed82a5c1d8dc68b0a",
   "1dfb4598289d58aec6d5bb12ce69c3af",
   "81693d7c10c193092b489a81f6f10758",
   "b08864b8f9568bbe2e418ddc46df873c",
   "903006bb36d59c344fa40748514fe9c3",
   "b34df92515c8d9f037de2d2ed6e8eb41",
   "ff8d6361ddd508b6a095b85310013e61",
   "b34df92515c8d9f037de2d2ed6e8eb41",
   "bf1e95a620d6fd8f27cdf0219d386648",
   "dc6cbd7363440ca8e1f1e7a052a3f3f3",
   "facbfaf02205d9939fc553c09d23c3cf",
   "1aef9362a93b6af810d814a917461cab",
   "072c8643a31ee8456d1c9fa861732c99",
   "6dc5cc2c0f3f7470e49d045d67804412",
   "e9ac97de2ca079f3b5490adfba3190f8",
   "a44a9962c4447685267228c00e058330",
   "d41d8cd98f00b204e9800998ecf8427e"
  ],
  "kernelspec": {
   "display_name": "Python 3",
   "language": "python",
   "name": "python3"
  },
  "language_info": {
   "codemirror_mode": {
    "name": "ipython",
    "version": 3
   },
   "file_extension": ".py",
   "mimetype": "text/x-python",
   "name": "python",
   "nbconvert_exporter": "python",
   "pygments_lexer": "ipython3",
   "version": "3.6.8"
  },
  "number_of_pagebreaks": 2
 },
 "nbformat": 4,
 "nbformat_minor": 2
}
