{
 "cells": [
  {
   "cell_type": "markdown",
   "metadata": {
    "#student": false
   },
   "source": [
    "## Problem Set 7\n",
    "### UGBA 88: Data and Decisions, Fall 2019"
   ]
  },
  {
   "cell_type": "code",
   "execution_count": null,
   "metadata": {
    "#student": false
   },
   "outputs": [],
   "source": [
    "#run this cell once, then *restart kernel*\n",
    "%pip install gsExport"
   ]
  },
  {
   "cell_type": "code",
   "execution_count": 8,
   "metadata": {
    "#student": false
   },
   "outputs": [],
   "source": [
    "from datascience import *\n",
    "%matplotlib inline\n",
    "import matplotlib.pyplot as plt\n",
    "plt.style.use('fivethirtyeight')\n",
    "import numpy as np\n",
    "import gsExport"
   ]
  },
  {
   "cell_type": "markdown",
   "metadata": {
    "#student": false
   },
   "source": [
    "Deadline: This assignment is due Monday, November 25th at noon (12pm). Late work will not be accepted.\n",
    "\n",
    "You will submit your solutions using both OKpy and Gradescope. You will find detailed submission instructions ([here](https://docs.google.com/document/d/1vrg66vGtBf93xt4-LUQPpacUAQAxIJEeJ10fRsb8oUc/)). **Please do not remove or add cells and please ignore the '#newpage' cells** (these are here to facilitate Gradescope submission).\n",
    "\n",
    "You should start early so that you have time to get help if you're stuck. Post questions on [Piazza](https://piazza.com/class/jzw0f05ebpof0). Check the syllabus  for the office hours schedule. Remember that Connector Assistant office hours are for *coding questions only*."
   ]
  },
  {
   "cell_type": "markdown",
   "metadata": {
    "#student": true
   },
   "source": [
    "## Question 1: Orange Juice Sales"
   ]
  },
  {
   "cell_type": "markdown",
   "metadata": {
    "#student": false
   },
   "source": [
    "**(35 points)** In this question you will analyze data on orange juice sales and prices in [Dominick's](https://en.wikipedia.org/wiki/Dominick%27s) supermarkets (you can read more about these data [here](https://www.chicagobooth.edu/research/kilts/datasets/dominicks)). The data come from 83 supermarkets in the Chicago area. Sales and prices vary by brand, supermarket, and week.\n",
    "\n",
    "Each row contains the following information on a given brand of orange juice in a particular supermarket in a given week:\n",
    "\n",
    "* `sales`: the number of units sold in the store\n",
    "* `price`: price of the orange juice\n",
    "* `brand`: brand of the orange juice (Tropicana or Dominick's)\n",
    "* `feat`: whether the orange juice was 'featured' or promoted in the store\n",
    "* `tropicana`: an indicator for whether the brand is Tropicana (= 0 if brand is Dominick's)"
   ]
  },
  {
   "cell_type": "code",
   "execution_count": null,
   "metadata": {
    "#student": false
   },
   "outputs": [],
   "source": [
    "#run this cell to load the data\n",
    "\n",
    "#read in data\n",
    "oj_data = Table.read_table(\"oj.csv\")\n",
    "oj_data.show(5)"
   ]
  },
  {
   "cell_type": "markdown",
   "metadata": {
    "#student": false
   },
   "source": [
    "In this question, you will estimate how orange juice sales respond to prices. In economics, this relationship is summarized by the **price elasticity of demand**, which measures proportional changes in quantity demanded of a good or service in response to a proportional change in price. It gives the percentage change in quantity demanded in response to a one percent change in price. Mathematically, it can be expressed as\n",
    "\n",
    "$$e_{p} = \\frac{\\partial Q}{\\partial p} \\frac{p}{Q}$$\n",
    "\n",
    "where $P$ is price and $Q$ is quantity. We can estimate the price elasticity of demand using the following regression:\n",
    "\n",
    "$$\\ln(\\text{Sales})_{i} = \\alpha + \\beta \\ln(\\text{Price})_{i} + e_{i}$$\n",
    "\n",
    "With both the dependent variable and explanatory variables expressed in natural logs, $\\beta$ now has an **elasticity interpretation**: a 1% increase in price is associated with a $\\beta$ percent increase in sales. (For more detail on the use of the natural log function in regression, see *Mastering Metrics*.)"
   ]
  },
  {
   "cell_type": "code",
   "execution_count": null,
   "metadata": {
    "#student": false
   },
   "outputs": [],
   "source": [
    "#first we'll define log_sales and log_price and add them as columns\n",
    "log_sales = np.log(oj_data.column('sales'))\n",
    "log_price = np.log(oj_data.column('price'))\n",
    "\n",
    "oj_data = oj_data.with_columns(['log_sales', log_sales, 'log_price', log_price])"
   ]
  },
  {
   "cell_type": "markdown",
   "metadata": {
    "#student": true
   },
   "source": [
    "**a. (3 points)** Create a scatterplot with `log_sales` on the vertical axis and `log_price` on the horizontal axis. Describe the relationship you see in a sentence."
   ]
  },
  {
   "cell_type": "code",
   "execution_count": 3,
   "metadata": {
    "#student": true
   },
   "outputs": [],
   "source": [
    "#write code here"
   ]
  },
  {
   "cell_type": "markdown",
   "metadata": {
    "#student": true
   },
   "source": [
    "*Describe the relationship you see in a sentence*"
   ]
  },
  {
   "cell_type": "markdown",
   "metadata": {
    "#student": true
   },
   "source": [
    "**b. (5 points)** Estimate the price elasticity of demand (the regression given above). Report your coefficients. Interpret your estimate for the price elasticity ($\\beta$) in a full sentence. (Be sure to mention the *magnitude* of the estimate and not just the *sign*.)"
   ]
  },
  {
   "cell_type": "code",
   "execution_count": 4,
   "metadata": {
    "#student": true
   },
   "outputs": [],
   "source": [
    "#write your code here: define MSE function"
   ]
  },
  {
   "cell_type": "code",
   "execution_count": 5,
   "metadata": {
    "#student": true
   },
   "outputs": [],
   "source": [
    "#write any additional code here"
   ]
  },
  {
   "cell_type": "markdown",
   "metadata": {
    "#student": true
   },
   "source": [
    "*Interpret estimate in sentence*"
   ]
  },
  {
   "cell_type": "markdown",
   "metadata": {
    "#student": true
   },
   "source": [
    "**c. (3 points)** Plot a histogram of `price` (*not* `log_price`), grouped by `feat`. How do prices for featured and non-featured orange juices compare?"
   ]
  },
  {
   "cell_type": "code",
   "execution_count": 6,
   "metadata": {
    "#student": true
   },
   "outputs": [],
   "source": [
    "#write your code here"
   ]
  },
  {
   "cell_type": "markdown",
   "metadata": {
    "#student": true
   },
   "source": [
    "*How do prices compare?*"
   ]
  },
  {
   "cell_type": "markdown",
   "metadata": {
    "#student": true
   },
   "source": [
    "**d. (3 points)** Calculate average `sales` (*not* `log_sales`) by `feat`. How do sales for featured and non-featured orange juices compare?"
   ]
  },
  {
   "cell_type": "code",
   "execution_count": null,
   "metadata": {
    "#student": true
   },
   "outputs": [],
   "source": [
    "#write your code here"
   ]
  },
  {
   "cell_type": "markdown",
   "metadata": {
    "#student": true
   },
   "source": [
    "*How do sales compare?*"
   ]
  },
  {
   "cell_type": "markdown",
   "metadata": {
    "#student": true
   },
   "source": [
    "**e. (3 points)** How do you anticipate controlling for `feat` in the regression will affect your estimated price elasticity? Why? (Your argument should be based statistical reasoning, not what you think drives consumer behavior.)"
   ]
  },
  {
   "cell_type": "markdown",
   "metadata": {
    "#student": true
   },
   "source": [
    "*Write answer here*"
   ]
  },
  {
   "cell_type": "markdown",
   "metadata": {
    "#student": true
   },
   "source": [
    "**f. (5 points)** Using regression, estimate the price elasticity of demand while *controlling for `feat`*. Report your coefficients. Interpret your estimate for the price elasticity in a sentence. (Be sure to mention the *magnitude* of the estimate and not just the *sign*.)"
   ]
  },
  {
   "cell_type": "code",
   "execution_count": null,
   "metadata": {
    "#student": true
   },
   "outputs": [],
   "source": [
    "#write your code here: define MSE function"
   ]
  },
  {
   "cell_type": "code",
   "execution_count": null,
   "metadata": {
    "#student": true
   },
   "outputs": [],
   "source": [
    "#write any additional code here"
   ]
  },
  {
   "cell_type": "markdown",
   "metadata": {
    "#student": true
   },
   "source": [
    "*Interpret estimate in sentence*"
   ]
  },
  {
   "cell_type": "markdown",
   "metadata": {
    "#student": true
   },
   "source": [
    "**g. (4 points)** Using regression, estimate the price elasticity of demand while *controlling for `tropicana`* (but not `feat`). Report your coefficients."
   ]
  },
  {
   "cell_type": "code",
   "execution_count": null,
   "metadata": {
    "#student": true
   },
   "outputs": [],
   "source": [
    "#write your code here: define MSE function"
   ]
  },
  {
   "cell_type": "code",
   "execution_count": null,
   "metadata": {
    "#student": true
   },
   "outputs": [],
   "source": [
    "#write any additional code here"
   ]
  },
  {
   "cell_type": "markdown",
   "metadata": {
    "#student": true
   },
   "source": [
    "**h. (5 points)** Based on your regression results in **part (b)** and **part (g)**, does Tropicana or Dominic's have a larger average `log_price`? Explain your reasoning."
   ]
  },
  {
   "cell_type": "markdown",
   "metadata": {
    "#student": true
   },
   "source": [
    "*Write answer here*"
   ]
  },
  {
   "cell_type": "markdown",
   "metadata": {
    "#student": true
   },
   "source": [
    "**i. (4 points)** Prices tend to be higher in supermarkets located in more dense areas of Chicago. These supermarkets also tend to attract more customers per day. Explain why the fact that we are not controlling for the density of the supermarket's location may bias our estimate for the price elasticity of demand. What sign do you anticipate for that bias, and why?"
   ]
  },
  {
   "cell_type": "markdown",
   "metadata": {
    "#student": true
   },
   "source": [
    "*Write answer here*"
   ]
  },
  {
   "cell_type": "markdown",
   "metadata": {
    "#student": false
   },
   "source": [
    "#newpage"
   ]
  },
  {
   "cell_type": "markdown",
   "metadata": {
    "#student": true
   },
   "source": [
    "## Question 2: Regression and the Oregon Health Study"
   ]
  },
  {
   "cell_type": "markdown",
   "metadata": {
    "#student": false
   },
   "source": [
    "**(20 points)** In this question you will re-examine the Oregon Health Study from Chapter 1 of *Mastering 'Metrics* and earlier problem sets. In 2008, the state of Oregon held a (randomized) lottery where lottery winners were eligible to apply for enrollment in a Medicaid expansion program. Refer to the discussion in *Mastering 'Metrics* for more details on the experiment.\n",
    "\n",
    "The data you will use this time will have a slightly different set of columns from what you used in previous problem sets. Here we have restricted the data to individuals who have only signed themselves up (and not their families) for the lottery, getting around the balance issues discussed in Problem Set 6.\n",
    "\n",
    "* `person_id`: identifier for participants\n",
    "* `win_lottery`: indicator for whether participant won lottery\n",
    "* `english`: participant requested English language materials\n",
    "* `female`: indicator for female participant\n",
    "* `zip_msa`: whether participant lives in a Metropolitan Statistical Area (MSA) (i.e., near a city)\n",
    "* `age`: age of participant\n",
    "* `cost_any_owe`: indicator for currently owing any money for medical expenses\n",
    "* `any_medicaid`: indicator for whether participant is with or without Medicaid coverage"
   ]
  },
  {
   "cell_type": "code",
   "execution_count": null,
   "metadata": {
    "#student": false
   },
   "outputs": [],
   "source": [
    "#run this cell to load the data\n",
    "ohs_data = Table.read_table(\"ohs.csv\")\n",
    "ohs_data.show(5)"
   ]
  },
  {
   "cell_type": "markdown",
   "metadata": {
    "#student": false
   },
   "source": [
    "In Problem Set 5 we estimated the causal effect of winning the lottery on `cost_any_owe` by comparing the mean of `cost_any_owe` for lottery winners to the same mean for lottery losers. Recall that we can make that same comparison using regression by estimating the following model:\n",
    "\n",
    "$$\\text{cost}\\_\\text{any}\\_\\text{owe}_{i} = \\alpha + \\beta \\times \\text{win}\\_\\text{lottery}_{i} + e_{i} $$"
   ]
  },
  {
   "cell_type": "markdown",
   "metadata": {
    "#student": true
   },
   "source": [
    "**a. (4 points)** Estimate the regression above. Report the coefficients."
   ]
  },
  {
   "cell_type": "code",
   "execution_count": 3,
   "metadata": {
    "#student": true
   },
   "outputs": [],
   "source": [
    "#write your code here: define MSE function"
   ]
  },
  {
   "cell_type": "code",
   "execution_count": 4,
   "metadata": {
    "#student": true
   },
   "outputs": [],
   "source": [
    "#write any additional code here"
   ]
  },
  {
   "cell_type": "markdown",
   "metadata": {
    "#student": true
   },
   "source": [
    "**b. (3 points)** Confirm that you get the same treatment effect estimate by comparing means of `cost_any_owe` for lottery winners and lottery losers. Make sure to print your calculation of the difference in means."
   ]
  },
  {
   "cell_type": "code",
   "execution_count": null,
   "metadata": {
    "#student": true
   },
   "outputs": [],
   "source": [
    "#write code here"
   ]
  },
  {
   "cell_type": "markdown",
   "metadata": {
    "#student": true
   },
   "source": [
    "**c. (4 points)** Describe the interpretation for your $\\beta$ estimate in a sentence. (Be sure to mention the *magnitude* of the estimate and not just the *sign*.) Is this a causal effect? Why or why not? [Note that a one unit change in `win_lottery` is moving from zero (lottery loser) to one (lottery winner).]"
   ]
  },
  {
   "cell_type": "markdown",
   "metadata": {
    "#student": true
   },
   "source": [
    "*Write your answer here*"
   ]
  },
  {
   "cell_type": "markdown",
   "metadata": {
    "#student": true
   },
   "source": [
    "**d. (4 points)** Now we'll try estimating a similar regression but using our other covariates, `female`, `age`, `english`, `zip_msa`, as controls.\n",
    "\n",
    "Estimate the following regression model:\n",
    "\n",
    "$$ \\text{cost}\\_\\text{any}\\_\\text{owe}_{i} = \\alpha + \\beta \\times \\text{win}\\_\\text{lottery}_{i} + \\gamma_{1} \\times \\text{female}_{i} + \\gamma_{2} \\times \\text{age}_{i} + \\gamma_{3} \\times \\text{english}_{i} + \\gamma_{4} \\times \\text{zip}\\_\\text{msa}_{i} +  \\epsilon_{i} $$\n",
    "\n",
    "\n",
    "Be sure to report the coefficients."
   ]
  },
  {
   "cell_type": "code",
   "execution_count": null,
   "metadata": {
    "#student": true
   },
   "outputs": [],
   "source": [
    "#write your code here: define MSE function"
   ]
  },
  {
   "cell_type": "code",
   "execution_count": null,
   "metadata": {
    "#student": true
   },
   "outputs": [],
   "source": [
    "#write any additional code here"
   ]
  },
  {
   "cell_type": "markdown",
   "metadata": {
    "#student": true
   },
   "source": [
    "**e. (5 points)** Your estimate for $\\beta$ should not meaningfully change from **part (a)** to **part (d)**. What does this tell you about the relationship between `win_lottery` and the other covariates, and what can explain this relationship?"
   ]
  },
  {
   "cell_type": "markdown",
   "metadata": {
    "#student": true
   },
   "source": [
    "*Write your answer here*"
   ]
  },
  {
   "cell_type": "markdown",
   "metadata": {
    "#student": false
   },
   "source": [
    "## Submission"
   ]
  },
  {
   "cell_type": "markdown",
   "metadata": {
    "#student": false
   },
   "source": [
    "Before submitting, please click \"Kernel\" above and click \"Restart & Run All\" to ensure all of your code is working as expected. This is important. Code that does not run cannot be graded. After confirming that all of your work looks and runs as you'd like it to, run **BOTH** of the below cells to submit your work.\n",
    "\n",
    "Make sure that the following runs successfully for submission to OkPy."
   ]
  },
  {
   "cell_type": "code",
   "execution_count": null,
   "metadata": {
    "#student": false
   },
   "outputs": [],
   "source": [
    "from client.api.notebook import Notebook\n",
    "ok = Notebook('pset7.ok')                \n",
    "_ = ok.auth(inline=True)\n",
    "_ = ok.submit()"
   ]
  },
  {
   "cell_type": "markdown",
   "metadata": {
    "#student": false
   },
   "source": [
    "Then, make sure that the following runs successfully to generate a PDF to upload to Gradescope. **Do not upload any other PDF to Gradescope other than the one generated by the below code.** If you have difficulty downloading the PDF, please review the submission instructions ([here](https://docs.google.com/document/d/1vrg66vGtBf93xt4-LUQPpacUAQAxIJEeJ10fRsb8oUc/)) or see Piazza for troubleshooting steps.\n"
   ]
  },
  {
   "cell_type": "code",
   "execution_count": null,
   "metadata": {
    "#student": false
   },
   "outputs": [],
   "source": [
    "gsExport.generateSubmission('pset7.ipynb')"
   ]
  },
  {
   "cell_type": "code",
   "execution_count": null,
   "metadata": {
    "#student": false
   },
   "outputs": [],
   "source": []
  }
 ],
 "metadata": {
  "checksums": [
   "7890ad32f386b2ac76025ab52b522a8e",
   "5ff5769315835a43435a4fb4aecedfb4",
   "b3b0a6bec3590179f09133c5a9414f68",
   "108c7ae8478cb263a235a5be10d96fe4",
   "b5dd3b47f936eff13eb7ce53956c5e89",
   "cb36ee1298e59f74ce7225a25203d2b1",
   "1415ea392fe752ebed82c6b461f4c376",
   "12a15f155f670bd9eb21d008968da0ee",
   "1eeb4e164e79b51f5b1c9db7ffd268e9",
   "3f2029462101bde27c8f9e75d931fab3",
   "b34df92515c8d9f037de2d2ed6e8eb41",
   "8873475f7e2cb62c0fe3b09db105a9c8",
   "5e37ffc654f35de1f6da3b09ead336c4",
   "29251400214d76dce3adc61e8e25098c",
   "f9dd40b6071c0417523d8b26cf140d83",
   "468563d7926a9e5a99791ec1fb7822e9",
   "1ba405859958576bf14eacb075a49dfd",
   "27db0de4dd7382cb3d4d8429433f8a92",
   "cd4faa0580cb0142a4bff24db1081f6f",
   "ed50f9f23e86db6632215a1bc636d850",
   "27db0de4dd7382cb3d4d8429433f8a92",
   "5d4c0b011521f8ad0fd1e24b633c72b0",
   "6874286d1dbb89571cbc73c01cafc8e4",
   "dc6cbd7363440ca8e1f1e7a052a3f3f3",
   "a988c895c93b04d82b33414aaf3b4dc6",
   "29251400214d76dce3adc61e8e25098c",
   "f9dd40b6071c0417523d8b26cf140d83",
   "468563d7926a9e5a99791ec1fb7822e9",
   "54ed9b8a4e5111730ffe1f35512b71d3",
   "29251400214d76dce3adc61e8e25098c",
   "f9dd40b6071c0417523d8b26cf140d83",
   "f1b46341c7e8fd0225506a1937665344",
   "dc6cbd7363440ca8e1f1e7a052a3f3f3",
   "22275307ce6cdd32fbab7cb2fdbb5bdf",
   "dc6cbd7363440ca8e1f1e7a052a3f3f3",
   "640061103a186fd26f59746dd4d6de57",
   "848c8e3f1fe264cec02c7dbf365f2027",
   "0ad02b229eebd1738d7b9aa1209cb4c8",
   "547f387f33fa84a8393e8cc4330ed579",
   "f54a61497802e0ffa0978e012a3c345d",
   "d12e250aa364fec01d41cb6c401d3767",
   "29251400214d76dce3adc61e8e25098c",
   "f9dd40b6071c0417523d8b26cf140d83",
   "84c8952f1c9278ab3317dc3200c3ac6a",
   "b34df92515c8d9f037de2d2ed6e8eb41",
   "e86ff313192852eef4a0e1ef6b3e8d0e",
   "0146536757eb097d12e4b27748df4e3b",
   "6aa381e5d7a3cf21f73631e603829b2a",
   "29251400214d76dce3adc61e8e25098c",
   "f9dd40b6071c0417523d8b26cf140d83",
   "9a62ededbb92565f21c576a51de9187c",
   "0146536757eb097d12e4b27748df4e3b",
   "facbfaf02205d9939fc553c09d23c3cf",
   "a7e5c228c77f19cc11c5929baeeb3657",
   "f19ecdfa4788aa6c1391438e80ad51f6",
   "32c94881a4d99158787729ded0398f7c",
   "06758d1b81848da9d1076cb8538cf2ef",
   "a2e5e7bea22a54f54010d035c73a8870",
   "d41d8cd98f00b204e9800998ecf8427e"
  ],
  "kernelspec": {
   "display_name": "Python 3",
   "language": "python",
   "name": "python3"
  },
  "language_info": {
   "codemirror_mode": {
    "name": "ipython",
    "version": 3
   },
   "file_extension": ".py",
   "mimetype": "text/x-python",
   "name": "python",
   "nbconvert_exporter": "python",
   "pygments_lexer": "ipython3",
   "version": "3.6.8"
  },
  "number_of_pagebreaks": 2
 },
 "nbformat": 4,
 "nbformat_minor": 2
}
